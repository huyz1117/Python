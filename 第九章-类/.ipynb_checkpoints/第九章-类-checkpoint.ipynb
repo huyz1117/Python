{
 "cells": [
  {
   "cell_type": "raw",
   "metadata": {},
   "source": [
    "在面向对象编程过程中，编写表示现实世界中的事物和情景的类，并基于这些类来创建对象。编写类时，定义一大类对象都有的通用行为。基于类创建对象时，每个对象都自动具备这种通用行为，然后可根据需要赋予每个对象独特的个性。\n",
    "根据类来创建对象被成为实例化。"
   ]
  },
  {
   "cell_type": "markdown",
   "metadata": {},
   "source": [
    "# 9.1 创建和使用类"
   ]
  },
  {
   "cell_type": "raw",
   "metadata": {},
   "source": [
    "下面来编写一个表示小狗的简单类Dog——它表示的不是特定的小狗，而是任何小狗。他们都有名字和年龄；大多数小狗还会蹲下和打滚。由于大多数小狗都具备上述两项信息(名字和年龄)和两种行为(蹲下和打滚)，我们的Dog类将包含他们。\n",
    "编写这个类后，我们将使用它来创建特定小狗的实例。\n",
    "类中的函数称为方法。"
   ]
  },
  {
   "cell_type": "markdown",
   "metadata": {},
   "source": [
    "## 9.1.1 创建Dog类"
   ]
  },
  {
   "cell_type": "raw",
   "metadata": {},
   "source": [
    "根据Dog类创建的每个实例都将存储名字和年龄。我们赋予每条小狗蹲下(sit())和打滚(roll_over())的能力。"
   ]
  },
  {
   "cell_type": "code",
   "execution_count": 5,
   "metadata": {
    "collapsed": true
   },
   "outputs": [],
   "source": [
    "class Dog():\n",
    "    def __init__(self, name, age):\n",
    "        # 初始化属性name和age\n",
    "        self.name = name\n",
    "        self.age = age\n",
    "        \n",
    "    def sit(self):\n",
    "        # 模拟小狗被命令时蹲下\n",
    "        print(self.name.title() + \" is now sitting.\")\n",
    "        \n",
    "    def roll_over(self):\n",
    "        # 模拟小狗被命令时打滚\n",
    "        print(self.name.title() + \" rolled over.\")"
   ]
  },
  {
   "cell_type": "raw",
   "metadata": {},
   "source": [
    "1.方法\n",
    "类中的函数称为方法。方法__init__()是一种特殊的方法，每当你根据Dog类创建新的实例时，python都会自动运行它。\n",
    "定义__init__()方法定义了三个形参：self、name和age。形参self必须放在其他形参前面，因为python调用这个__init__()方法来创建实例时，将自动传入实参self,每个与类相关联的方法都自动传递实参self，他是一个指向实例本身的引用，让实例能狗访问类中的属性和方法。\n",
    "我们创建Dog实例时，Python将调用Dog类的方法__init__()。\n",
    "我们将通过实参向Dog类传递名字和年龄，self会自动传递，因此我们不需要传递他。"
   ]
  },
  {
   "cell_type": "raw",
   "metadata": {},
   "source": [
    "第4行处定义的两个变量都有前缀self。以self为前缀的变量都可供类中的所有的方法使用，我们还可以通过类的任何实例来访问这些变量。\n",
    "self.name = name获取存储在形参name中的值，并将其存储在变量name中，然后该变量被关联到当前创建的实例。"
   ]
  },
  {
   "cell_type": "raw",
   "metadata": {},
   "source": [
    "Dog类还定义了另外两种方法：sit()和roll_over()。由于这些方法不需要额外的信息，如名字或年龄，因此他们只有一个形参self。我们后面创建的实例能够访问这些方法。"
   ]
  },
  {
   "cell_type": "markdown",
   "metadata": {},
   "source": [
    "## 9.1.2 根据类创建实例"
   ]
  },
  {
   "cell_type": "raw",
   "metadata": {},
   "source": [
    "可将类视为有关如何创建实例的说明。Dog类是一系列说明，让Python知道如何创建表示特定小狗的实例。\n",
    "下面来创建一个表示特定小狗的实例："
   ]
  },
  {
   "cell_type": "code",
   "execution_count": 6,
   "metadata": {
    "scrolled": true
   },
   "outputs": [
    {
     "name": "stdout",
     "output_type": "stream",
     "text": [
      "My dog's name is Willie.\n",
      "My dog's age is 6.\n"
     ]
    }
   ],
   "source": [
    "my_dog = Dog(\"willie\", 6)\n",
    "print(\"My dog's name is \" + my_dog.name.title() + \".\")\n",
    "print(\"My dog's age is \" + str(my_dog.age) + \".\")"
   ]
  },
  {
   "cell_type": "markdown",
   "metadata": {},
   "source": [
    "### 1.访问属性"
   ]
  },
  {
   "cell_type": "raw",
   "metadata": {},
   "source": [
    "要访问实例的属性，可使用句点表示法。通过my_dog.name来访问my_dog的属性name的值。\n",
    "在第2行print语句中，my_dog.name.title()将my_dog的属性name的值\"willie\"改为首字母大写；在第3行print语句中，str(my_dog.age)将my_dog的属性age的值6转换为字符串。"
   ]
  },
  {
   "cell_type": "markdown",
   "metadata": {},
   "source": [
    "### 2.调用方法"
   ]
  },
  {
   "cell_type": "raw",
   "metadata": {},
   "source": [
    "根据Dog类创建实例后，就可以使用句点表示法来调用Dog类中定义的任何方法。下面让小狗蹲下和打滚："
   ]
  },
  {
   "cell_type": "code",
   "execution_count": 3,
   "metadata": {},
   "outputs": [
    {
     "name": "stdout",
     "output_type": "stream",
     "text": [
      "Willie is now sitting.\n",
      "Willie rolled over.\n"
     ]
    }
   ],
   "source": [
    "my_dog = Dog(\"willie\", 6)\n",
    "my_dog.sit()\n",
    "my_dog.roll_over()"
   ]
  },
  {
   "cell_type": "raw",
   "metadata": {},
   "source": [
    "遇到代码my_dog.sit()，Python在类Dog中查找方法sit并运行其代码。"
   ]
  },
  {
   "cell_type": "markdown",
   "metadata": {},
   "source": [
    "### 3.创建多个实例"
   ]
  },
  {
   "cell_type": "raw",
   "metadata": {},
   "source": [
    "可按需求根据类创建任意数量的实例。"
   ]
  },
  {
   "cell_type": "code",
   "execution_count": 4,
   "metadata": {},
   "outputs": [
    {
     "name": "stdout",
     "output_type": "stream",
     "text": [
      "My dog's name is Willie.\n",
      "My dog's age is 6 years old.\n",
      "Willie is now sitting.\n",
      "\n",
      "Your dog's name is Lucy.\n",
      "Your dog' age is 7 years old.\n",
      "Lucy is now sitting.\n"
     ]
    }
   ],
   "source": [
    "my_dog = Dog(\"willie\", 6)\n",
    "your_dog = Dog(\"lucy\", 7)\n",
    "\n",
    "print(\"My dog's name is \" + my_dog.name.title() + \".\")\n",
    "print(\"My dog's age is \" + str(my_dog.age) + \" years old.\")\n",
    "my_dog.sit()\n",
    "\n",
    "print(\"\\nYour dog's name is \" + your_dog.name.title() + \".\")\n",
    "print(\"Your dog' age is \" + str(your_dog.age) + \" years old.\")\n",
    "your_dog.sit()"
   ]
  },
  {
   "cell_type": "markdown",
   "metadata": {},
   "source": [
    "## 动手试一试"
   ]
  },
  {
   "cell_type": "raw",
   "metadata": {},
   "source": [
    "9-1 餐馆：创建一个名为Restaurant的类，其方法__init__()设置两个属性：restaurant_name和cuisine_type。创建一个名为describe_restaurant()的方法和一个名为open_restaurant()的方法，其中前者打印前述两项信息，而后者打印一条信息，指出餐馆正在营业。\n",
    "根据这个类创建一个名为restaurant的实例，分别打印其两个属性，再调用前述两个方法。"
   ]
  },
  {
   "cell_type": "code",
   "execution_count": 5,
   "metadata": {
    "collapsed": true
   },
   "outputs": [],
   "source": [
    "class Restaurant():\n",
    "    def __init__(self, restaurant_name, cuisine_type):\n",
    "        self.restaurant_name = restaurant_name\n",
    "        self.cuisine_type = cuisine_type\n",
    "    \n",
    "    def describe_restaurant(self):\n",
    "        print(\"Restaurant's name is \" + self.restaurant_name)\n",
    "        print(\"Restaurant's type is \" + self.cuisine_type)\n",
    "        \n",
    "    def open_restaurant(self):\n",
    "        print(self.restaurant_name + \" is running.\")"
   ]
  },
  {
   "cell_type": "code",
   "execution_count": 6,
   "metadata": {},
   "outputs": [
    {
     "name": "stdout",
     "output_type": "stream",
     "text": [
      "Restaurant's name is KFC\n",
      "Restaurant's type is fast_food\n",
      "KFC is running.\n"
     ]
    }
   ],
   "source": [
    "restaurant = Restaurant(\"KFC\", \"fast_food\")\n",
    "restaurant.describe_restaurant()\n",
    "restaurant.open_restaurant()"
   ]
  },
  {
   "cell_type": "raw",
   "metadata": {},
   "source": [
    "9-2 三家餐馆：根据你为完成练习9-1而编写的类创建三个实例，并对每个实例调用方法describe_restaurant()"
   ]
  },
  {
   "cell_type": "code",
   "execution_count": 7,
   "metadata": {},
   "outputs": [
    {
     "name": "stdout",
     "output_type": "stream",
     "text": [
      "Restaurant's name is 肯德基\n",
      "Restaurant's type is 快餐\n",
      "Restaurant's name is 麦当劳\n",
      "Restaurant's type is 快餐\n",
      "Restaurant's name is 大娘水饺\n",
      "Restaurant's type is 中餐\n"
     ]
    }
   ],
   "source": [
    "restaurant_one = Restaurant(\"肯德基\", \"快餐\")\n",
    "restaurant_two = Restaurant(\"麦当劳\", \"快餐\")\n",
    "restaurant_three = Restaurant(\"大娘水饺\", \"中餐\")\n",
    "\n",
    "restaurant_one.describe_restaurant()\n",
    "restaurant_two.describe_restaurant()\n",
    "restaurant_three.describe_restaurant()"
   ]
  },
  {
   "cell_type": "raw",
   "metadata": {},
   "source": [
    "9-3 用户：创建一个名为User的类，其中包含属性first_name和last_name，还有用于简介通过会存储的其他几格属性。在类User中定义一个名为describe()的方法，它打印用户信息摘要；在定义一个名为greet_user()的方法，它向用户发出个性化的问候。\n",
    "创建多个表示不同用户的实例，并对每个实例都调用上述的两个方法。"
   ]
  },
  {
   "cell_type": "code",
   "execution_count": 8,
   "metadata": {
    "collapsed": true
   },
   "outputs": [],
   "source": [
    "class User():\n",
    "    def __init__(self, first_name, last_name):\n",
    "        self.first_name = first_name\n",
    "        self.last_name = last_name\n",
    "    \n",
    "    def describe_user(self):\n",
    "        print(\"First name is \" + self.first_name)\n",
    "        print(\"Last name is \" + self.last_name)\n",
    "        \n",
    "    def greet_user(self):\n",
    "        full_name = self.first_name + \" \" + self.last_name\n",
    "        print(\"Hello, \" + full_name)"
   ]
  },
  {
   "cell_type": "code",
   "execution_count": 9,
   "metadata": {},
   "outputs": [
    {
     "name": "stdout",
     "output_type": "stream",
     "text": [
      "First name is Jack\n",
      "Last name is Ma\n",
      "Hello, Jack Ma\n",
      "First name is Bob\n",
      "Last name is Wang\n",
      "Hello, Bob Wang\n"
     ]
    }
   ],
   "source": [
    "Jack_user = User(\"Jack\", \"Ma\")\n",
    "Bob_user = User(\"Bob\", \"Wang\")\n",
    "\n",
    "Jack_user.describe_user()\n",
    "Jack_user.greet_user()\n",
    "\n",
    "Bob_user.describe_user()\n",
    "Bob_user.greet_user()"
   ]
  },
  {
   "cell_type": "markdown",
   "metadata": {},
   "source": [
    "# 9.2 使用类和实例"
   ]
  },
  {
   "cell_type": "raw",
   "metadata": {},
   "source": [
    "类编写后，你的大部分时间都将花在使用根据类创建的实例上。你需要执行的一个重要任务是修改实例的属性。可以直接修改实例的属性，也可以编写方法以特定方式进行修改。"
   ]
  },
  {
   "cell_type": "markdown",
   "metadata": {},
   "source": [
    "## 9.2.1 Car类"
   ]
  },
  {
   "cell_type": "raw",
   "metadata": {},
   "source": [
    "下面编写一个表示汽车的类，它存储了有关汽车的信息，还有一个汇总这些信息的方法："
   ]
  },
  {
   "cell_type": "code",
   "execution_count": 10,
   "metadata": {
    "collapsed": true
   },
   "outputs": [],
   "source": [
    "class Car():\n",
    "    def __init__(self, make, model, year):\n",
    "        self.make = make\n",
    "        self.model = model\n",
    "        self.year = year\n",
    "        \n",
    "    def get_descriptive_name(self):\n",
    "        long_name = str(self.year) + \" \" + self.make + \" \" + self.model\n",
    "        return long_name.title()"
   ]
  },
  {
   "cell_type": "code",
   "execution_count": 11,
   "metadata": {},
   "outputs": [
    {
     "data": {
      "text/plain": [
       "'2018 Audi A4'"
      ]
     },
     "execution_count": 11,
     "metadata": {},
     "output_type": "execute_result"
    }
   ],
   "source": [
    "my_new_car = Car(\"audi\", \"a4\", 2018)\n",
    "my_new_car.get_descriptive_name()"
   ]
  },
  {
   "cell_type": "raw",
   "metadata": {},
   "source": [
    "为了让这个类更有趣，下面给他添加一个随时间变化的属性，它存储汽车的总里程。"
   ]
  },
  {
   "cell_type": "markdown",
   "metadata": {},
   "source": [
    "## 9.2.2 给属性指定默认值"
   ]
  },
  {
   "cell_type": "raw",
   "metadata": {},
   "source": [
    "类中的每个属性都必须有初始值，哪怕这个值是0或空字符串。在有些情况下，如设置默认值时，在方法__init__()内指定这种初始值是可行的；如果你对某个属性这样做了，就无需包含为他提供初始值的形参。"
   ]
  },
  {
   "cell_type": "code",
   "execution_count": 12,
   "metadata": {
    "collapsed": true
   },
   "outputs": [],
   "source": [
    "class Car():\n",
    "    def __init__(self, make, model, year):\n",
    "        self.make = make\n",
    "        self.model = model\n",
    "        self.year = year\n",
    "        self.odometer_reading = 0\n",
    "        \n",
    "    def get_descriptive_name(self):\n",
    "        long_name = str(self.year) + \" \" + self.make +  \" \" + self.model\n",
    "        print(long_name.title())\n",
    "        \n",
    "    def read_odometer(self):\n",
    "        print(\"This car has \" + str(self.odometer_reading) + \" miles on it.\")"
   ]
  },
  {
   "cell_type": "code",
   "execution_count": 13,
   "metadata": {},
   "outputs": [
    {
     "name": "stdout",
     "output_type": "stream",
     "text": [
      "2016 Audi A4\n",
      "This car has 0 miles on it.\n"
     ]
    }
   ],
   "source": [
    "my_new_car = Car(\"audi\", \"a4\", 2016)\n",
    "my_new_car.get_descriptive_name()\n",
    "my_new_car.read_odometer()"
   ]
  },
  {
   "cell_type": "markdown",
   "metadata": {},
   "source": [
    "## 9.2.3 修改属性的值"
   ]
  },
  {
   "cell_type": "raw",
   "metadata": {},
   "source": [
    "可以以三种不同的方式修改属性的值：直接通过实例进行更改；通过方法进行设置；通过方法进行递增(增加特定的值)。"
   ]
  },
  {
   "cell_type": "markdown",
   "metadata": {},
   "source": [
    "### 1.直接修改属性的值"
   ]
  },
  {
   "cell_type": "raw",
   "metadata": {},
   "source": [
    "要修改属性的值，最简单的方式是通过实例直接访问它："
   ]
  },
  {
   "cell_type": "code",
   "execution_count": 14,
   "metadata": {},
   "outputs": [
    {
     "name": "stdout",
     "output_type": "stream",
     "text": [
      "This car has 23 miles on it.\n"
     ]
    }
   ],
   "source": [
    "my_new_car.odometer_reading = 23\n",
    "my_new_car.read_odometer()"
   ]
  },
  {
   "cell_type": "markdown",
   "metadata": {},
   "source": [
    "### 2.通过方法修改属性的值"
   ]
  },
  {
   "cell_type": "raw",
   "metadata": {},
   "source": [
    "如果有替你更新属性的方法，将大有裨益。这样就无需直接访问属性，而可将值传递给一个方法，由它在内部进行更新。\n",
    "下面的示例演示了一个名为update_odometer()的方法："
   ]
  },
  {
   "cell_type": "code",
   "execution_count": 15,
   "metadata": {
    "collapsed": true
   },
   "outputs": [],
   "source": [
    "class Car():\n",
    "    def __init__(self, make, model, year):\n",
    "        self.make = make\n",
    "        self.model = model\n",
    "        self.year = year\n",
    "        self.odometer_reading = 0\n",
    "        \n",
    "    def get_descriptive_name(self):\n",
    "        long_name = str(self.year) + \" \" + self.make + \" \" + self.model\n",
    "        print(long_name.title())\n",
    "        \n",
    "    def read_odometer(self):\n",
    "        print(\"This car has \" + str(self.odometer_reading) + \" on it.\")\n",
    "        \n",
    "    def update_odometer(self, mileage):\n",
    "        self.odometer_reading = mileage"
   ]
  },
  {
   "cell_type": "code",
   "execution_count": 16,
   "metadata": {},
   "outputs": [
    {
     "name": "stdout",
     "output_type": "stream",
     "text": [
      "2016 Audi A4\n",
      "This car has 23 on it.\n"
     ]
    }
   ],
   "source": [
    "my_new_car = Car(\"audi\", \"a4\", 2016)\n",
    "my_new_car.get_descriptive_name()\n",
    "\n",
    "my_new_car.update_odometer(23)\n",
    "my_new_car.read_odometer()"
   ]
  },
  {
   "cell_type": "raw",
   "metadata": {},
   "source": [
    "对car类做的唯一修改是添加了方法update_odometer()。这个方法接受一个里程值，并将其存储到self.odometer_reading中。\n",
    "在第4行我们调用update_odometer(),并向他提供了实参23。"
   ]
  },
  {
   "cell_type": "raw",
   "metadata": {},
   "source": [
    "可对方法update_odometer()进行扩展，使其在修改里程表读数时做些额外的工作。下面来添加一些逻辑，禁止任何人将里程表往回调："
   ]
  },
  {
   "cell_type": "code",
   "execution_count": 17,
   "metadata": {
    "collapsed": true
   },
   "outputs": [],
   "source": [
    "class Car():\n",
    "    def __init__(self, make, model, year):\n",
    "        self.make = make\n",
    "        self.model = model\n",
    "        self.year = year\n",
    "        self.odometer_reading = 23\n",
    "    \n",
    "    def update_odometer(self, mileage):\n",
    "        if mileage >= self.odometer_reading:\n",
    "            self.odometer_reading = mileage\n",
    "        else:\n",
    "            print(\"You can't roll back an odometer!\")"
   ]
  },
  {
   "cell_type": "code",
   "execution_count": 18,
   "metadata": {},
   "outputs": [
    {
     "name": "stdout",
     "output_type": "stream",
     "text": [
      "You can't roll back an odometer!\n"
     ]
    }
   ],
   "source": [
    "my_new_car = Car(\"audi\", \"a4\", 2016)\n",
    "my_new_car.update_odometer(21)"
   ]
  },
  {
   "cell_type": "markdown",
   "metadata": {},
   "source": [
    "### 3.通过方法对属性的值进行递增"
   ]
  },
  {
   "cell_type": "raw",
   "metadata": {},
   "source": [
    "有时候需要将属性的值递增特定的量，而不是将其设置为全新的值。假设我们购买了一台二手车，且从购买到登记期间增加了100英里，下面的方法让我们能够传递这个增量，并且相应的增加里程表读数："
   ]
  },
  {
   "cell_type": "code",
   "execution_count": 37,
   "metadata": {
    "collapsed": true
   },
   "outputs": [],
   "source": [
    "class Car():\n",
    "    def __init__(self, make, model, year):\n",
    "        self.make = make\n",
    "        self.model = model\n",
    "        self.year = year\n",
    "        self.odometer_reading = 0\n",
    "        \n",
    "    def get_descriptive_name(self):\n",
    "        long_name = str(self.year) + \" \" + self.make + \" \" + self.model\n",
    "        return long_name.title()\n",
    "    def read_odometer(self):\n",
    "        print(\"The car has \" + str(self.odometer_reading) + \" miles on it.\")\n",
    "    \n",
    "    def update_odometer(self, mileage):\n",
    "        \"\"\"将里程表读数设置为指定的值\"\"\"\n",
    "        self.odometer_reading = mileage\n",
    "    \n",
    "    def increment_odometer(self, miles):\n",
    "        \"\"\"将里程表读数增加指定的量\"\"\"\n",
    "        self.odometer_reading += miles"
   ]
  },
  {
   "cell_type": "code",
   "execution_count": 38,
   "metadata": {},
   "outputs": [
    {
     "name": "stdout",
     "output_type": "stream",
     "text": [
      "2013 Subaru Outback\n"
     ]
    }
   ],
   "source": [
    "my_used_car = Car(\"subaru\", \"outback\", 2013)\n",
    "print(my_used_car.get_descriptive_name())"
   ]
  },
  {
   "cell_type": "code",
   "execution_count": 39,
   "metadata": {},
   "outputs": [
    {
     "name": "stdout",
     "output_type": "stream",
     "text": [
      "The car has 23500 miles on it.\n"
     ]
    }
   ],
   "source": [
    "my_used_car.update_odometer(23500)\n",
    "my_used_car.read_odometer()"
   ]
  },
  {
   "cell_type": "code",
   "execution_count": 40,
   "metadata": {},
   "outputs": [
    {
     "name": "stdout",
     "output_type": "stream",
     "text": [
      "The car has 23600 miles on it.\n"
     ]
    }
   ],
   "source": [
    "my_used_car.increment_odometer(100)\n",
    "my_used_car.read_odometer()"
   ]
  },
  {
   "cell_type": "raw",
   "metadata": {},
   "source": [
    "9-4. 就餐人数: 在为完成练习9-1而编写的程序中，添加一个名为number_served的属性，并将其默认值设置为0。根据这个类创建一个名为restaurant的实例；打印有多少人在这家餐馆就餐过，然后修改这个值并在此打印它。\n",
    "    添加一个名为set_number_served()的方法，它让你能够设置就餐人数。调用这个方法并向他传递一个值，然后在此打印这个值。\n",
    "    添加一个名为increment_number_served()的方法，它让你能够将就餐人数递增。调用这个方法并向他传递一个这样的值：你认为这家餐馆每天可能接待的就餐人数。"
   ]
  },
  {
   "cell_type": "code",
   "execution_count": 57,
   "metadata": {
    "collapsed": true
   },
   "outputs": [],
   "source": [
    "class Restaurant():\n",
    "    def __init__(self, restaurant_name, cuisine_type):\n",
    "        self.restaurant_name = restaurant_name\n",
    "        self.cuisine_type = cuisine_type\n",
    "        self.num_served = 10\n",
    "        \n",
    "    def describe_restaurant(self):\n",
    "        print(\"The restaurant'name is \" + self.restaurant_name + \" and it's type is \" + self.cuisine_type)\n",
    "    \n",
    "    def open_restaurant(self):\n",
    "        print(\"The restaurant is running.\")\n",
    "        \n",
    "    def read_number(self):\n",
    "        print(\"The restaurant have served \" + str(self.num_served) + \" people.\")\n",
    "    \n",
    "    def set_number_served(self, number):\n",
    "        self.num_served = number\n",
    "    \n",
    "    def increment_number_served(self, incre_number):\n",
    "        self.num_served += incre_number"
   ]
  },
  {
   "cell_type": "code",
   "execution_count": 51,
   "metadata": {},
   "outputs": [
    {
     "name": "stdout",
     "output_type": "stream",
     "text": [
      "The restaurant have served 0 people.\n"
     ]
    }
   ],
   "source": [
    "restaurant = Restaurant(\"KFC\", \"fast food\")\n",
    "restaurant.read_number()"
   ]
  },
  {
   "cell_type": "code",
   "execution_count": 52,
   "metadata": {},
   "outputs": [
    {
     "name": "stdout",
     "output_type": "stream",
     "text": [
      "The restaurant have served 23 people.\n"
     ]
    }
   ],
   "source": [
    "restaurant = Restaurant(\"KFC\", \"fast_food\")\n",
    "restaurant.num_served = 23\n",
    "restaurant.read_number()"
   ]
  },
  {
   "cell_type": "code",
   "execution_count": 54,
   "metadata": {},
   "outputs": [
    {
     "name": "stdout",
     "output_type": "stream",
     "text": [
      "The restaurant have served 45 people.\n"
     ]
    }
   ],
   "source": [
    "restaurant = Restaurant(\"KFC\", \"fast food\")\n",
    "restaurant.set_number_served(45)\n",
    "restaurant.read_number()"
   ]
  },
  {
   "cell_type": "code",
   "execution_count": 58,
   "metadata": {},
   "outputs": [
    {
     "name": "stdout",
     "output_type": "stream",
     "text": [
      "The restaurant have served 77 people.\n"
     ]
    }
   ],
   "source": [
    "restaurant = Restaurant(\"KFC\", \"fast food\")\n",
    "restaurant.increment_number_served(67)\n",
    "restaurant.read_number()"
   ]
  },
  {
   "cell_type": "markdown",
   "metadata": {},
   "source": [
    "# 9.3 继承"
   ]
  },
  {
   "cell_type": "raw",
   "metadata": {},
   "source": [
    "编写类时，并非总是要从空白开始。如果你要编写的类是另一个现成类的特殊版本，可使用继承。一个类继承另一个类时，它将自动获得另一个类的所有属性和方法；原有的类称为父类，而新类称为子类。子类继承了其父类的所有的属性和方法，同时它还定义自己的属性和方法。"
   ]
  },
  {
   "cell_type": "markdown",
   "metadata": {},
   "source": [
    "## 9.3.1 子类的方法__init__()"
   ]
  },
  {
   "cell_type": "raw",
   "metadata": {},
   "source": [
    "创建子类的实例时，Python首先需要完成的任务是给父类的所有的属性赋值。为此，子类的方法__init__()需要父类施以援手。\n",
    "例如，下面来模拟电动汽车。电动汽车是一种特殊的汽车，因此我们可以在前面创建的Car类的基础上创建新类ElectricCar，这样我们就只需为电动汽车特有的属性和行为编写代码。\n",
    "下面来创建一个简单的ElectricCar类版本，它具备Car类的所有功能。"
   ]
  },
  {
   "cell_type": "code",
   "execution_count": 62,
   "metadata": {
    "collapsed": true
   },
   "outputs": [],
   "source": [
    "class Car():\n",
    "    \n",
    "    def __init__(self, make, model, year):\n",
    "        self.make = make\n",
    "        self.model = model\n",
    "        self.year = year\n",
    "        self.odometer_reading = 0\n",
    "        \n",
    "    def get_descriptive_name(self):\n",
    "        long_name = str(self.year) + \" \" + self.make + \" \" + self.model\n",
    "        return long_name\n",
    "    \n",
    "    def read_odometer(self):\n",
    "        print(\"The car has\" + str(self.odometer_reading) + \" miles on it.\")\n",
    "        \n",
    "    def update_odometer(self, mileage):\n",
    "        if mileage > self.odometer_reading:\n",
    "            self.odometer_reading = mileage\n",
    "        else:\n",
    "            print(\"You can't roll back an odometer!\")\n",
    "            \n",
    "    def increment_odometer(self, miles):\n",
    "        self.odometer_reading += miles\n",
    "        \n",
    "class ElectricCar(Car):\n",
    "    \"\"\"电动汽车的独特之处\"\"\"\n",
    "    def __init__(self, make, model, year):\n",
    "        \"\"\"初始化父类属性\"\"\"\n",
    "        super().__init__(make, model, year)"
   ]
  },
  {
   "cell_type": "code",
   "execution_count": 63,
   "metadata": {},
   "outputs": [
    {
     "name": "stdout",
     "output_type": "stream",
     "text": [
      "2016 tesla model s\n"
     ]
    }
   ],
   "source": [
    "my_tesla = ElectricCar(\"tesla\", \"model s\", 2016)\n",
    "print(my_tesla.get_descriptive_name())"
   ]
  },
  {
   "cell_type": "raw",
   "metadata": {},
   "source": [
    "创建子类时，父类必须包含在当前文件中，且位于子类前面。在25行，我们定义了子类ElectricCar。定义子类时，必须在括号内指定父类的名称。方法__init__()接受创建Car实例所需的信息。\n",
    "27行的super()时一个特殊的函数，帮助Python将父类和子类关联起来。这行代码让PythonElectricCar的父类的方法__init__(),让ElectricCar实例包含父类的所有属性。父类也称为超类(superclass),名称super因此而得名。"
   ]
  },
  {
   "cell_type": "markdown",
   "metadata": {},
   "source": [
    "## 9.3.2 给子类定义属性和方法"
   ]
  },
  {
   "cell_type": "raw",
   "metadata": {},
   "source": [
    "让一个类继承另一个类后，可添加区分子类和父类所需的新属性和方法。\n",
    "下面来添加一个电动汽车特有的属性(电瓶)，以及一个描述该属性的方法。我们将存储电瓶容量，并编写一个打印电瓶描述的方法。"
   ]
  },
  {
   "cell_type": "code",
   "execution_count": 74,
   "metadata": {
    "collapsed": true
   },
   "outputs": [],
   "source": [
    "class Car():\n",
    "    \n",
    "    def __init__(self, make, model, year):\n",
    "        self.make = make\n",
    "        self.model = model\n",
    "        self.year = year\n",
    "        self.odometer_reading = 0\n",
    "        \n",
    "    def get_descriptive_name(self):\n",
    "        long_name = str(self.year) + \" \" + self.make + \" \" + self.model\n",
    "        return long_name\n",
    "    \n",
    "    def read_odometer(self):\n",
    "        print(\"The car has \" + str(self.odometer_reading) + \" on it.\")\n",
    "        \n",
    "    def update_odometer(self, mileage):\n",
    "        if mileage >= self.odometer_reading:\n",
    "            self.odometer_reading = mileage\n",
    "        else:\n",
    "            print(\"You can't roll back an odometer!\")\n",
    "            \n",
    "    def increment_odometer(self, miles):\n",
    "        self.odometer_reading += miles\n",
    "        \n",
    "class ElectricCar(Car):\n",
    "    \n",
    "    def __init__(self, make, model, year):\n",
    "        \"\"\"\n",
    "        电动汽车的独特之处\n",
    "        初始化父类的属性，再初始化电动汽特有属性\n",
    "        \"\"\"\n",
    "        super().__init__(make, model, year)\n",
    "        self.battery_size = 70\n",
    "        \n",
    "    def describe_battery(self):\n",
    "        print(\"This car has a \" + str(self.battery_size) + \"-kwh battery.\")"
   ]
  },
  {
   "cell_type": "code",
   "execution_count": 75,
   "metadata": {},
   "outputs": [
    {
     "name": "stdout",
     "output_type": "stream",
     "text": [
      "2016 tesla model s\n",
      "This car has a 70-kwh battery.\n"
     ]
    }
   ],
   "source": [
    "my_tesla = ElectricCar(\"tesla\", \"model s\", 2016)\n",
    "print(my_tesla.get_descriptive_name())\n",
    "my_tesla.describe_battery()"
   ]
  },
  {
   "cell_type": "markdown",
   "metadata": {},
   "source": [
    "## 9.3.3 重写父类方法"
   ]
  },
  {
   "cell_type": "raw",
   "metadata": {},
   "source": [
    "对于父类的方法，只要他不符合子类模拟的实物的行为，都可对其重写。为此，可在子类中定义一个这样的方法，即它与要重写的父类方法同名。这样，Python将不会考虑这个父类方法，而只关注你在子类中定义的相应的方法。"
   ]
  },
  {
   "cell_type": "raw",
   "metadata": {},
   "source": [
    "假设Car类有一个名为fill_gas_tank()的方法，它对全电动汽车来说毫无意义，因此你可能想重写它。下面演示了一种重写的方式："
   ]
  },
  {
   "cell_type": "code",
   "execution_count": 76,
   "metadata": {
    "collapsed": true
   },
   "outputs": [],
   "source": [
    "class ElectricCar(Car):\n",
    "    \n",
    "    pass\n",
    "\n",
    "    def fill_gas_tank(self):\n",
    "        print(\"This car doesn't need a gas tank!\")"
   ]
  },
  {
   "cell_type": "raw",
   "metadata": {},
   "source": [
    "现在，如果有人对电动汽车调用方法fill_gas_tank()，Python将忽略Car类中的方法fill_gas_tank()，转而运行上述的代码。使用继承时，可让子类保留从父类那里继承而来的精华，并剔除不需要的糟粕。"
   ]
  },
  {
   "cell_type": "markdown",
   "metadata": {},
   "source": [
    "## 9.3.4 将实例用作属性"
   ]
  },
  {
   "cell_type": "raw",
   "metadata": {},
   "source": [
    "使用代码模拟实物时，你可能会发现自己给类添加的细节越来越多：属性和方法清单以及文件都越来越长。在这种情况下，可能需要将类的一部分作为一个独立的类提取出来。你可以将大型类拆分成多个协同工作的小类。"
   ]
  },
  {
   "cell_type": "raw",
   "metadata": {},
   "source": [
    "例如，不断给ElectricCar类添加细节时，我们可能会发现其中包含很多专门汽车电瓶的属性和方法。在这种情况下，我们可将这些属性和方法提取出来，放到另一个名为Battery的类中，并将一个Battery实例用作ElectricCar类的一个属性："
   ]
  },
  {
   "cell_type": "code",
   "execution_count": 81,
   "metadata": {
    "collapsed": true
   },
   "outputs": [],
   "source": [
    "class Car():\n",
    "    \n",
    "    def __init__(self, make, model, year):\n",
    "        self.make = make\n",
    "        self.model = model\n",
    "        self.year = year\n",
    "        self.odometer_reading = 0\n",
    "        \n",
    "    def get_descriptive_name(self):\n",
    "        long_name = str(self.year) + \" \" + self.make + \" \" + self.model\n",
    "        return long_name\n",
    "    \n",
    "class Battery():\n",
    "    \n",
    "    def __init__(self, battery_size=70):\n",
    "        \"\"\"初始化电瓶属性\"\"\"\n",
    "        self.battery_size = battery_size\n",
    "    \n",
    "    def describe_battery(self):\n",
    "        print(\"This car has a \" + str(self.battery_size) + \"-kwh battery.\")\n",
    "        \n",
    "class ElectricCar(Car):\n",
    "    \n",
    "    def __init__(self, make, model, year):\n",
    "        super().__init__(make, model, year)\n",
    "        self.battery = Battery(76)"
   ]
  },
  {
   "cell_type": "code",
   "execution_count": 82,
   "metadata": {},
   "outputs": [
    {
     "name": "stdout",
     "output_type": "stream",
     "text": [
      "2016 tesla model s\n",
      "This car has a 76-kwh battery.\n"
     ]
    }
   ],
   "source": [
    "my_tesla = ElectricCar(\"tesla\", \"model s\", 2016)\n",
    "print(my_tesla.get_descriptive_name())\n",
    "my_tesla.battery.describe_battery()"
   ]
  },
  {
   "cell_type": "raw",
   "metadata": {},
   "source": [
    "在13行，我们定义了一个名为Battery的新类，它没有继承任何的类。15行的方法__init__()除了self外，还有另一个形参battery_size。这个形参时可选的：如果没有给他提供值，电瓶的容量将被设置为70。方法describe_battery()也移到了这个类中。"
   ]
  },
  {
   "cell_type": "raw",
   "metadata": {},
   "source": [
    "在ElectricCar类中，我们添加了一个名为self.battery的属性，这行代码让Python创建一个新的Battery实例，并将该实例存储在属性self.battery中。每当方法__init__()被调用时，都将执行该操作；因此现在每个ElectricCar实例都包含一个自动创建的Battery实例。"
   ]
  },
  {
   "cell_type": "raw",
   "metadata": {},
   "source": [
    "我们创建一辆电动汽车，并将其存储在变量my_tesla中。要描述电瓶时，需要使用电动汽车的属性battery:"
   ]
  },
  {
   "cell_type": "code",
   "execution_count": 83,
   "metadata": {},
   "outputs": [
    {
     "name": "stdout",
     "output_type": "stream",
     "text": [
      "This car has a 76-kwh battery.\n"
     ]
    }
   ],
   "source": [
    "my_tesla.battery.describe_battery()"
   ]
  },
  {
   "cell_type": "raw",
   "metadata": {},
   "source": [
    "这行代码让Python在实例my_tesla中查找属性battery，并对存储在该属性中的Battery实例调用方法describe_battery()"
   ]
  },
  {
   "cell_type": "raw",
   "metadata": {},
   "source": [
    "下面再给Battery类添加一个方法，它根据电瓶容量报告汽车的续航里程："
   ]
  },
  {
   "cell_type": "code",
   "execution_count": 88,
   "metadata": {
    "collapsed": true
   },
   "outputs": [],
   "source": [
    "class Car():\n",
    "    \n",
    "    def __init__(self, make, model, year):\n",
    "        self.make = make\n",
    "        self.model = model\n",
    "        self.year = year\n",
    "        self.odometer_reading = 0\n",
    "        \n",
    "    def get_descriptive_name(self):\n",
    "        long_name = str(self.year) + \" \" + self.make + \" \" + self.model\n",
    "        return long_name\n",
    "\n",
    "class Battery():\n",
    "    \n",
    "    def __init__(self, battery_size=70):\n",
    "        self.battery_size = battery_size\n",
    "        \n",
    "    def describe_battery(self):\n",
    "        print(\"This car has a \" + str(self.battery_size) + \"-kwh battery\")\n",
    "        \n",
    "    def get_range(self):\n",
    "        \"\"\"打印一条消息，指出电瓶的续航里程\"\"\"\n",
    "        if self.battery_size == 70:\n",
    "            range = 240\n",
    "        elif self.battery_size == 85:\n",
    "            range = 270\n",
    "        \n",
    "        message = \"This car can go approximately \" + str(range) + \" miles on a full charge\"\n",
    "        print(message)\n",
    "        \n",
    "class ElectricCar(Car):\n",
    "    \n",
    "    def __init__(self, make, model, year):\n",
    "        super().__init__(make, model, year)\n",
    "        self.battery = Battery()"
   ]
  },
  {
   "cell_type": "code",
   "execution_count": 90,
   "metadata": {},
   "outputs": [
    {
     "name": "stdout",
     "output_type": "stream",
     "text": [
      "2016 tesla model s\n",
      "This car has a 70-kwh battery\n",
      "This car can go approximately 240 miles on a full charge\n"
     ]
    }
   ],
   "source": [
    "my_tesla = ElectricCar(\"tesla\", \"model s\", 2016)\n",
    "print(my_tesla.get_descriptive_name())\n",
    "my_tesla.battery.describe_battery()\n",
    "my_tesla.battery.get_range()"
   ]
  },
  {
   "cell_type": "markdown",
   "metadata": {},
   "source": [
    "# 9.4 导入类"
   ]
  },
  {
   "cell_type": "raw",
   "metadata": {},
   "source": [
    "随着不断给类添加功能，文件可能变得很长，即使妥善的使用了继承亦如此。为遵循Python的总体理念，应让文件尽可能整洁。为在这方面提供帮助，Python允许你将类存储在模块中，然后在主程序中导入所需的模块。"
   ]
  },
  {
   "cell_type": "markdown",
   "metadata": {},
   "source": [
    "## 9.4.1 导入单个类"
   ]
  },
  {
   "cell_type": "raw",
   "metadata": {},
   "source": [
    "下面来创建一个只包含Car类的模块,将其命名为car.py。"
   ]
  },
  {
   "cell_type": "markdown",
   "metadata": {
    "collapsed": true
   },
   "source": [
    "car.py"
   ]
  },
  {
   "cell_type": "code",
   "execution_count": 1,
   "metadata": {
    "collapsed": true
   },
   "outputs": [],
   "source": [
    "\"\"\" 一个可用于表示汽车的类 \"\"\"\n",
    "\n",
    "class Car():\n",
    "\n",
    "    def __init__(self, make, model, year):\n",
    "        self.make = make\n",
    "        self.model = model\n",
    "        self.year = year\n",
    "        self.odometer_reading = 0\n",
    "\n",
    "    def get_descriptive_name(self):\n",
    "        long_name = str(self.year) + \" \" + self.make + \" \" + self.model\n",
    "        return long_name\n",
    "\n",
    "    def read_odometer(self):\n",
    "        \"\"\" 打印一条消息，指出汽车的里程 \"\"\"\n",
    "        print(\"This car has \" + str(self.odometer_reading) + \" miles on it.\")\n",
    "\n",
    "    def update_odometer(self, mileage):\n",
    "        \"\"\"\n",
    "        将里程表读数设置为指定的值\n",
    "        拒绝将里程表往回调\n",
    "        \"\"\"\n",
    "        if mileage >= self.odometer_reading:\n",
    "            self.odometer_reading = mileage\n",
    "        else:\n",
    "            print(\"You can't roll back an odometer!\")\n",
    "\n",
    "    def increment_odometer(self, miles):\n",
    "        \"\"\" 将里程表读数增加指定的量 \"\"\"\n",
    "        self.odometer_reading += miles"
   ]
  },
  {
   "cell_type": "raw",
   "metadata": {},
   "source": [
    "下面来创建另一个文件----my_car.py，在其中导入Car类并创建其实例。"
   ]
  },
  {
   "cell_type": "markdown",
   "metadata": {},
   "source": [
    "my_car.py"
   ]
  },
  {
   "cell_type": "code",
   "execution_count": 2,
   "metadata": {},
   "outputs": [
    {
     "name": "stdout",
     "output_type": "stream",
     "text": [
      "2016 audi a4\n",
      "This car has 23 miles on it.\n"
     ]
    }
   ],
   "source": [
    "from car import Car\n",
    "\n",
    "my_new_car = Car(\"audi\", \"a4\", 2016)\n",
    "print(my_new_car.get_descriptive_name())\n",
    "\n",
    "my_new_car.odometer_reading = 23\n",
    "my_new_car.read_odometer()"
   ]
  },
  {
   "cell_type": "raw",
   "metadata": {},
   "source": [
    "导入类时一种有效的编程方式。通过将这个类移到一个模块中，并导入该模块，你依然可以使用其所有功能，但主程序文件变得整洁而易于阅读了。"
   ]
  },
  {
   "cell_type": "markdown",
   "metadata": {},
   "source": [
    "## 9.4.2 在一个模块中存储多个类"
   ]
  },
  {
   "cell_type": "raw",
   "metadata": {},
   "source": [
    "虽然同一个模块中的类之间应存在某种相关性，但可根据需要在一个模块中存储任意数量的类。类Battery和ElectricCar都可帮助模拟汽车，因此下面将他们都加入模块car.py中："
   ]
  },
  {
   "cell_type": "markdown",
   "metadata": {
    "collapsed": true
   },
   "source": [
    "car.py"
   ]
  },
  {
   "cell_type": "code",
   "execution_count": 3,
   "metadata": {
    "collapsed": true
   },
   "outputs": [],
   "source": [
    "\"\"\" 一个可用于表示汽车的类 \"\"\"\n",
    "\"\"\" 一组用于表示燃油汽车和电动汽车的类 \"\"\"\n",
    "\n",
    "class Car():\n",
    "\n",
    "    def __init__(self, make, model, year):\n",
    "        self.make = make\n",
    "        self.model = model\n",
    "        self.year = year\n",
    "        self.odometer_reading = 0\n",
    "\n",
    "    def get_descriptive_name(self):\n",
    "        long_name = str(self.year) + \" \" + self.make + \" \" + self.model\n",
    "        return long_name\n",
    "\n",
    "    def read_odometer(self):\n",
    "        \"\"\" 打印一条消息，指出汽车的里程 \"\"\"\n",
    "        print(\"This car has \" + str(self.odometer_reading) + \" miles on it.\")\n",
    "\n",
    "    def update_odometer(self, mileage):\n",
    "        \"\"\"\n",
    "        将里程表读数设置为指定的值\n",
    "        拒绝将里程表往回调\n",
    "        \"\"\"\n",
    "        if mileage >= self.odometer_reading:\n",
    "            self.odometer_reading = mileage\n",
    "        else:\n",
    "            print(\"You can't roll back an odometer!\")\n",
    "\n",
    "    def increment_odometer(self, miles):\n",
    "        \"\"\" 将里程表读数增加指定的量 \"\"\"\n",
    "        self.odometer_reading += miles\n",
    "\n",
    "class Battery():\n",
    "    \"\"\" 一次模拟电动汽车电瓶的简单尝试 \"\"\"\n",
    "    def __init__(self, battery_size=70):\n",
    "        \"\"\" 初始化电瓶属性 \"\"\"\n",
    "        self.battery_size = battery_size\n",
    "\n",
    "    def describe_battery(self):\n",
    "        \"\"\" 打印一条描述电瓶容量信息 \"\"\"\n",
    "        print(\"This car has a \" + str(self.battery_size) + \"-kwh battery.\")\n",
    "\n",
    "    def get_range(self):\n",
    "        \"\"\" 打印一条描述电瓶续航里程的消息 \"\"\"\n",
    "        if self.battery_size == 70:\n",
    "            range = 240\n",
    "        elif self.battery_size == 85:\n",
    "            range = 270\n",
    "\n",
    "        message = \"This car can go approximately \" + str(range) + \" miles on a full charge.\"\n",
    "        print(message)\n",
    "\n",
    "class ElectricCar(Car):\n",
    "    \"\"\" 模拟电动汽车的独特之处 \"\"\"\n",
    "    def __init__(self, make, model, year):\n",
    "        \"\"\"\n",
    "        初始化父类属性，再初始化电动汽车特有的属性\n",
    "        \"\"\"\n",
    "        super().__init__(make, model, year)\n",
    "        self.battery = Battery()"
   ]
  },
  {
   "cell_type": "raw",
   "metadata": {},
   "source": [
    "现在可以新建一个名为my_electric_car.py的文件，导入ElectricCar类，并创建一辆电动汽车了："
   ]
  },
  {
   "cell_type": "markdown",
   "metadata": {},
   "source": [
    "my_electric_car.py"
   ]
  },
  {
   "cell_type": "code",
   "execution_count": 2,
   "metadata": {},
   "outputs": [
    {
     "name": "stdout",
     "output_type": "stream",
     "text": [
      "2016 tesla model s\n",
      "This car has a 70-kwh battery.\n",
      "This car can go approximately 240 miles on a full charge.\n"
     ]
    }
   ],
   "source": [
    "from car import ElectricCar\n",
    "\n",
    "my_tesla = ElectricCar(\"tesla\", \"model s\", 2016)\n",
    "\n",
    "print(my_tesla.get_descriptive_name())\n",
    "my_tesla.battery.describe_battery()\n",
    "my_tesla.battery.get_range()"
   ]
  },
  {
   "cell_type": "markdown",
   "metadata": {},
   "source": [
    "## 9.4.3 从一个模块中导入多个类"
   ]
  },
  {
   "cell_type": "raw",
   "metadata": {},
   "source": [
    "可根据需要在程序文件中导入任意数量的类。如果我们要在同一个文件中创建普通汽车和电动汽车，就需要将Car和ElectricCar类都导入："
   ]
  },
  {
   "cell_type": "markdown",
   "metadata": {},
   "source": [
    "my_cars.py"
   ]
  },
  {
   "cell_type": "code",
   "execution_count": 3,
   "metadata": {},
   "outputs": [
    {
     "name": "stdout",
     "output_type": "stream",
     "text": [
      "2016 volkswagen my_beetle\n",
      "2016 tesla model s\n"
     ]
    }
   ],
   "source": [
    "from car import Car, ElectricCar\n",
    "\n",
    "my_beetle = Car(\"volkswagen\", \"my_beetle\", 2016)\n",
    "print(my_beetle.get_descriptive_name())\n",
    "\n",
    "my_tesla = ElectricCar(\"tesla\", \"model s\", 2016)\n",
    "print(my_tesla.get_descriptive_name())"
   ]
  },
  {
   "cell_type": "markdown",
   "metadata": {},
   "source": [
    "## 9.4.4 导入整个模块"
   ]
  },
  {
   "cell_type": "raw",
   "metadata": {},
   "source": [
    "你还可以导入整个模块，再使用句点表示访问需要的类。这种导入方法很简单，代码也易于阅读。\n",
    "下面的代码导入整个car模块，并创建一辆普通汽车和一辆电动汽车："
   ]
  },
  {
   "cell_type": "code",
   "execution_count": 4,
   "metadata": {},
   "outputs": [
    {
     "name": "stdout",
     "output_type": "stream",
     "text": [
      "2016 volkswagen beetle\n",
      "2016 tesla model s\n"
     ]
    }
   ],
   "source": [
    "import car\n",
    "\n",
    "my_beetle = car.Car(\"volkswagen\", \"beetle\", 2016)\n",
    "print(my_beetle.get_descriptive_name())\n",
    "\n",
    "my_tesla = car.ElectricCar(\"tesla\", \"model s\", 2016)\n",
    "print(my_tesla.get_descriptive_name())"
   ]
  },
  {
   "cell_type": "markdown",
   "metadata": {},
   "source": [
    "## 9.4.5 在一个模块中导入另外一个模块"
   ]
  },
  {
   "cell_type": "raw",
   "metadata": {
    "collapsed": true
   },
   "source": [
    "有时需要将类分散到多个模块中，以免模块太大，或在同一个模块中存储不相关的类。将类存储在多个模块中时，你可能会发现一个模块中的类依赖于另一个模块中的类。在这种情况下，可在前一个模块中导入必要的类。"
   ]
  },
  {
   "cell_type": "raw",
   "metadata": {},
   "source": [
    "例如，下面将Car类存储在一个模块中，并将ElectricCar和Battery类存储在另一个模块中。我们将第二个模块命名为electric_car.py，并将Battery和ElectricCar类复制到这个模块中："
   ]
  },
  {
   "cell_type": "markdown",
   "metadata": {},
   "source": [
    "electric_car.py"
   ]
  },
  {
   "cell_type": "code",
   "execution_count": 1,
   "metadata": {
    "collapsed": true
   },
   "outputs": [],
   "source": [
    "from car import Car\n",
    "\n",
    "class Battery():\n",
    "    \"\"\" 一次模拟电动汽车电瓶的简单尝试 \"\"\"\n",
    "    def __init__(self, battery_size=70):\n",
    "        \"\"\" 初始化电瓶属性 \"\"\"\n",
    "        self.battery_size = battery_size\n",
    "\n",
    "    def describe_battery(self):\n",
    "        \"\"\" 打印一条描述电瓶容量信息 \"\"\"\n",
    "        print(\"This car has a \" + str(self.battery_size) + \"-kwh battery.\")\n",
    "\n",
    "    def get_range(self):\n",
    "        \"\"\" 打印一条描述电瓶续航里程的消息 \"\"\"\n",
    "        if self.battery_size == 70:\n",
    "            range = 240\n",
    "        elif self.battery_size == 85:\n",
    "            range = 270\n",
    "\n",
    "        message = \"This car can go approximately \" + str(range) + \" miles on a full charge.\"\n",
    "        print(message)\n",
    "\n",
    "class ElectricCar(Car):\n",
    "    \"\"\" 模拟电动汽车的独特之处 \"\"\"\n",
    "    def __init__(self, make, model, year):\n",
    "        \"\"\"\n",
    "        初始化父类属性，再初始化电动汽车特有的属性\n",
    "        \"\"\"\n",
    "        super().__init__(make, model, year)\n",
    "        self.battery = Battery()"
   ]
  },
  {
   "cell_type": "raw",
   "metadata": {},
   "source": [
    "electricCar类需要访问其父类Car，因此在第一行我们直接将Car类导入该模块中。"
   ]
  },
  {
   "cell_type": "raw",
   "metadata": {},
   "source": [
    "现在可以分别从每个模块中导入类，以根据需要创建任何类型的汽车了："
   ]
  },
  {
   "cell_type": "markdown",
   "metadata": {},
   "source": [
    "my_cars.py"
   ]
  },
  {
   "cell_type": "code",
   "execution_count": 6,
   "metadata": {},
   "outputs": [
    {
     "name": "stdout",
     "output_type": "stream",
     "text": [
      "2016 volkswagen beetle\n",
      "2016 tesla model s\n"
     ]
    }
   ],
   "source": [
    "from car import Car\n",
    "from electric_car import ElectricCar\n",
    "\n",
    "my_beetle = Car(\"volkswagen\", \"beetle\", 2016)\n",
    "print(my_beetle.get_descriptive_name())\n",
    "\n",
    "my_tesla = ElectricCar(\"tesla\", \"model s\", 2016)\n",
    "print(my_tesla.get_descriptive_name())"
   ]
  },
  {
   "cell_type": "code",
   "execution_count": null,
   "metadata": {
    "collapsed": true
   },
   "outputs": [],
   "source": [
    "3"
   ]
  }
 ],
 "metadata": {
  "kernelspec": {
   "display_name": "Python 3",
   "language": "python",
   "name": "python3"
  },
  "language_info": {
   "codemirror_mode": {
    "name": "ipython",
    "version": 3
   },
   "file_extension": ".py",
   "mimetype": "text/x-python",
   "name": "python",
   "nbconvert_exporter": "python",
   "pygments_lexer": "ipython3",
   "version": "3.6.3"
  }
 },
 "nbformat": 4,
 "nbformat_minor": 2
}
