{
 "cells": [
  {
   "cell_type": "markdown",
   "metadata": {},
   "source": [
    "### break和continue语句\n",
    "\n",
    "- break用来结束循环\n",
    "    - 程序从循环后代码继续执行\n",
    "    - 比如本来循环需执行10000次，但是执行到1000次已经达到标准，就可以使用break结束循环\n",
    "\n",
    "\n",
    "- continue用来结束当前当次循环\n",
    "    - 不再执行循环体中下面尚未执行的语句\n",
    "    - 但不结束当前循环\n",
    "    - 比如本次循环不再执行，即continue后的语句不再执行(循环体内的语句)，继续下一次循环"
   ]
  },
  {
   "cell_type": "markdown",
   "metadata": {},
   "source": [
    "### 问题1: 求200以内能被17整除的最大整数"
   ]
  },
  {
   "cell_type": "code",
   "execution_count": 1,
   "metadata": {},
   "outputs": [
    {
     "name": "stdout",
     "output_type": "stream",
     "text": [
      "200以内能被17整除的最大整数是: 187\n"
     ]
    }
   ],
   "source": [
    "for i in range(200, 1, -1):\n",
    "    if i % 17 == 0:\n",
    "        break\n",
    "print(\"200以内能被17整除的最大整数是:\", i)"
   ]
  },
  {
   "cell_type": "markdown",
   "metadata": {},
   "source": [
    "### 问题2: 求1-100之间所有偶数之和\n",
    "- 分析：循环遍历1-100之间所有的整数，当为奇数时，不执行加法操作，结束当次循环，继续遍历序列中的下一个元素，利用continue语句实现"
   ]
  },
  {
   "cell_type": "code",
   "execution_count": 2,
   "metadata": {},
   "outputs": [
    {
     "name": "stdout",
     "output_type": "stream",
     "text": [
      "1-100之间偶数之和为:2550\n"
     ]
    }
   ],
   "source": [
    "sum = 0\n",
    "\n",
    "for i in range(1, 101):\n",
    "    if i % 2 != 0:\n",
    "        continue\n",
    "    sum = sum + i\n",
    "    \n",
    "print(\"1-100之间偶数之和为:%d\"%sum)"
   ]
  },
  {
   "cell_type": "markdown",
   "metadata": {},
   "source": [
    "### 问题3:输出200以内所有素数，并输出素数的个数\n",
    "\n",
    "- 素数是除了1和它本身不能被其他整数整除的数。本题采用双重for循环实现，外层for循环遍历2-200之间的所有的整数，内层循环用来判断一个数是否为素数"
   ]
  },
  {
   "cell_type": "code",
   "execution_count": 3,
   "metadata": {},
   "outputs": [
    {
     "name": "stdout",
     "output_type": "stream",
     "text": [
      "2 3 5 7 11 13 17 19 23 29 31 37 41 43 47 53 59 61 67 71 73 79 83 89 97 101 103 107 109 113 127 131 137 139 149 151 157 163 167 173 179 181 191 193 197 199 \n",
      "200以内所有素数的个数为:46\n"
     ]
    }
   ],
   "source": [
    "num = 0\n",
    "\n",
    "for i in range(2, 200):\n",
    "    k = True     # 标记i是否为素数\n",
    "    for j in range(2, i):\n",
    "        if i % j == 0:\n",
    "            k = False\n",
    "            break\n",
    "            \n",
    "    if k == True:\n",
    "        print(i, end=\" \")\n",
    "        num = num + 1\n",
    "print(\"\\n200以内所有素数的个数为:%d\"%num)"
   ]
  },
  {
   "cell_type": "code",
   "execution_count": null,
   "metadata": {
    "collapsed": true
   },
   "outputs": [],
   "source": []
  }
 ],
 "metadata": {
  "kernelspec": {
   "display_name": "Python 3",
   "language": "python",
   "name": "python3"
  },
  "language_info": {
   "codemirror_mode": {
    "name": "ipython",
    "version": 3
   },
   "file_extension": ".py",
   "mimetype": "text/x-python",
   "name": "python",
   "nbconvert_exporter": "python",
   "pygments_lexer": "ipython3",
   "version": "3.6.3"
  }
 },
 "nbformat": 4,
 "nbformat_minor": 2
}
