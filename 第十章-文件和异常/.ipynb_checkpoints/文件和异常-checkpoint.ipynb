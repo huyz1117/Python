{
 "cells": [
  {
   "cell_type": "markdown",
   "metadata": {},
   "source": [
    "# 10.1 从文件中读取数据"
   ]
  },
  {
   "cell_type": "raw",
   "metadata": {},
   "source": [
    "要使用文本文件中的信息，首先需要将信息读取到内存中。为此，可以一次性读取文件的全部内容，也可以以每次一行的方式逐步读取。"
   ]
  },
  {
   "cell_type": "markdown",
   "metadata": {},
   "source": [
    "## 10.1.1 读取整个文件"
   ]
  },
  {
   "cell_type": "raw",
   "metadata": {},
   "source": [
    "要读取文件，需要一个包含几行文本的文件。下面首先创建一个文件，它包含精确到消暑点后30位的圆周率值，且在小数点后每10位处都换行："
   ]
  },
  {
   "cell_type": "raw",
   "metadata": {},
   "source": [
    "3.1415926535\n",
    "8979323846\n",
    "2643383279"
   ]
  },
  {
   "cell_type": "raw",
   "metadata": {},
   "source": [
    "下面的程序打开并读取这个文件，在将其内容显示在屏幕上："
   ]
  },
  {
   "cell_type": "code",
   "execution_count": 1,
   "metadata": {},
   "outputs": [
    {
     "name": "stdout",
     "output_type": "stream",
     "text": [
      "3.1415926535\n",
      "8979323846\n",
      "2643383279\n"
     ]
    }
   ],
   "source": [
    "with open(\"pi_digits.txt\") as file_object:      # open()返回一个表示文件的对象\n",
    "    contents = file_object.read()\n",
    "    print(contents)    "
   ]
  },
  {
   "cell_type": "raw",
   "metadata": {},
   "source": [
    "最后会多处一个空行，因为read()到达文件末尾时返回一个空字符串，而这个空字符串显示出来时就是一个空行。要删除空行，可以在print()语句使用rstrip():"
   ]
  },
  {
   "cell_type": "code",
   "execution_count": 2,
   "metadata": {},
   "outputs": [
    {
     "name": "stdout",
     "output_type": "stream",
     "text": [
      "3.1415926535\n",
      "8979323846\n",
      "2643383279\n"
     ]
    }
   ],
   "source": [
    "with open(\"pi_digits.txt\") as file_object:\n",
    "    contents = file_object.read()\n",
    "    print(contents.rstrip())"
   ]
  },
  {
   "cell_type": "raw",
   "metadata": {},
   "source": [
    "好像一样？"
   ]
  },
  {
   "cell_type": "markdown",
   "metadata": {},
   "source": [
    "## 10.1.2 文件路径"
   ]
  },
  {
   "cell_type": "raw",
   "metadata": {},
   "source": [
    "相对路径和绝对路径"
   ]
  },
  {
   "cell_type": "markdown",
   "metadata": {},
   "source": [
    "## 10.1.3 逐行读取"
   ]
  },
  {
   "cell_type": "raw",
   "metadata": {},
   "source": [
    "要以每次一行的方式检查文件，可对文件对象使用for循环："
   ]
  },
  {
   "cell_type": "code",
   "execution_count": 4,
   "metadata": {},
   "outputs": [
    {
     "name": "stdout",
     "output_type": "stream",
     "text": [
      "3.1415926535\n",
      "\n",
      "8979323846\n",
      "\n",
      "2643383279\n"
     ]
    }
   ],
   "source": [
    "file_name = \"pi_digits.txt\"\n",
    "\n",
    "with open(file_name) as file_object:\n",
    "    for line in file_object:\n",
    "        print(line)"
   ]
  },
  {
   "cell_type": "raw",
   "metadata": {},
   "source": [
    "这里会出现空行，可以在print()语句中使用rstrip()"
   ]
  },
  {
   "cell_type": "code",
   "execution_count": 6,
   "metadata": {},
   "outputs": [
    {
     "name": "stdout",
     "output_type": "stream",
     "text": [
      "3.1415926535\n",
      "8979323846\n",
      "2643383279\n"
     ]
    }
   ],
   "source": [
    "file_name = \"pi_digits.txt\"\n",
    "\n",
    "with open(file_name) as file_object:\n",
    "    for line in file_object:\n",
    "        print(line.rstrip())"
   ]
  },
  {
   "cell_type": "markdown",
   "metadata": {},
   "source": [
    "## 10.1.4 创建一个包含文件内容的列表"
   ]
  },
  {
   "cell_type": "raw",
   "metadata": {},
   "source": [
    "使用关键字with时，open()返回的文件对象只能在with代码块内可用。如果要在with代码块外访问文件的内容，可在with代码内将文件的各行存储在一个列表中，并在with代码块外使用该列表。\n",
    "下面的示例将在with代码块中将文件pi_digits.txt的各行存储在一个列表中，再在with代码块外打印他们："
   ]
  },
  {
   "cell_type": "code",
   "execution_count": 18,
   "metadata": {},
   "outputs": [
    {
     "name": "stdout",
     "output_type": "stream",
     "text": [
      "['3.1415926535\\n', '8979323846\\n', '2643383279']\n",
      "3.1415926535\n",
      "8979323846\n",
      "2643383279\n"
     ]
    }
   ],
   "source": [
    "file_name = \"pi_digits.txt\"\n",
    "\n",
    "with open(file_name) as file_object:\n",
    "    lines = file_object.readlines()    # 返回的是一个列表\n",
    "    print(lines)\n",
    "    \n",
    "for line in lines:\n",
    "    print(line.rstrip())"
   ]
  },
  {
   "cell_type": "raw",
   "metadata": {},
   "source": [
    "第4行的方法readlines()从文件中读取每一行，并将其存储在一个列表中；接下来，该列表被存储到变量lines中；在with代码块外，依然可以使用这个变量。第7行，我们使用一个简单的for循环来打印lines的各行。"
   ]
  },
  {
   "cell_type": "markdown",
   "metadata": {},
   "source": [
    "## 10.1.5 使用文件的内容"
   ]
  },
  {
   "cell_type": "raw",
   "metadata": {},
   "source": [
    "将文件读取到内存中后，就可以以任何方式使用这些数据了。下面以简单的方式使用圆周率的值。首先我们创建一个字符串，它包含文件中存储的所有数字，且没有任何空格："
   ]
  },
  {
   "cell_type": "code",
   "execution_count": 34,
   "metadata": {},
   "outputs": [
    {
     "name": "stdout",
     "output_type": "stream",
     "text": [
      "3.141592653589793238462643383279\n",
      "32\n"
     ]
    }
   ],
   "source": [
    "file_name = \"pi_digits.txt\"\n",
    "\n",
    "with open(file_name) as file_object:\n",
    "    lines = file_object.readlines()\n",
    "    \n",
    "pi_string = \"\"\n",
    "for line in lines:\n",
    "    pi_string += line.rstrip()\n",
    "\n",
    "print(pi_string)\n",
    "print(len(pi_string))"
   ]
  },
  {
   "cell_type": "raw",
   "metadata": {},
   "source": [
    "⚠️ 读取文本文件时，Python将其中的所有文本都解读为字符串，如果读取的是数字，并要将其作为数值使用，就必须使用函数int()将其转换为整数或使用函数float()将其转换为浮点数:"
   ]
  },
  {
   "cell_type": "code",
   "execution_count": 37,
   "metadata": {},
   "outputs": [
    {
     "name": "stdout",
     "output_type": "stream",
     "text": [
      "<class 'str'>\n",
      "<class 'float'>\n"
     ]
    }
   ],
   "source": [
    "print(type(pi_string))\n",
    "print(type(float(pi_string)))"
   ]
  },
  {
   "cell_type": "markdown",
   "metadata": {},
   "source": [
    "## 10.1.6 包含一百万位的大型文件"
   ]
  },
  {
   "cell_type": "raw",
   "metadata": {},
   "source": [
    "如果我们有一个文本文件，其中包含精确到小数点后1000000位而不是30位的圆周率值，也可以创建一个包含所有这些数字的字符串。为此，我们无需对前面的程序做任何修改，只需要将这个文件传递给他即可。在这里，我们只打印小数点后50位："
   ]
  },
  {
   "cell_type": "code",
   "execution_count": 38,
   "metadata": {},
   "outputs": [
    {
     "name": "stdout",
     "output_type": "stream",
     "text": [
      "3.14159265358979323846264338327950288419716939937510...\n",
      "1020000\n"
     ]
    }
   ],
   "source": [
    "file_name = \"pi_million_digits.txt\"\n",
    "\n",
    "with open(file_name) as file_object:\n",
    "    lines = file_object.readlines()\n",
    "    \n",
    "pi_string = \"\"\n",
    "for line in lines:\n",
    "    pi_string += line.rstrip()\n",
    "    \n",
    "print(pi_string[:52] + \"...\")\n",
    "print(len(pi_string))"
   ]
  },
  {
   "cell_type": "markdown",
   "metadata": {},
   "source": [
    "## 10.1.7 圆周率值中包含你的生日吗"
   ]
  },
  {
   "cell_type": "raw",
   "metadata": {},
   "source": [
    "下面来扩展刚才编写的程序，以确定某个人的生日是否包含在圆周率值的前100万中。为此，可将生日表示位一个由数字组成的字符串中，再检查这个字符串是否包含在pi_sring中："
   ]
  },
  {
   "cell_type": "code",
   "execution_count": 39,
   "metadata": {},
   "outputs": [
    {
     "name": "stdout",
     "output_type": "stream",
     "text": [
      "Please enter your birthday:920420\n",
      "Your birthday appears in the first million digits of pi!\n"
     ]
    }
   ],
   "source": [
    "file_name = \"pi_million_digits.txt\"\n",
    "\n",
    "with open(file_name) as file_object:\n",
    "    lines = file_object.readlines()\n",
    "    \n",
    "pi_string = \"\"\n",
    "for line in lines:\n",
    "    pi_string += line\n",
    "    \n",
    "birthday = input(\"Please enter your birthday:\")\n",
    "if birthday in pi_string:\n",
    "    print(\"Your birthday appears in the first million digits of pi!\")\n",
    "else:\n",
    "    print(\"Your birthday does not appear in the first million digits of pi!\")"
   ]
  },
  {
   "cell_type": "markdown",
   "metadata": {},
   "source": [
    "# 10.2 写入文件"
   ]
  },
  {
   "cell_type": "raw",
   "metadata": {},
   "source": [
    "保存数据的最简单的方式之一是将其写入到文件中。通过将输出写入文件，即便关闭包含程序输出的终端窗口，这些输出也依然存在：你可以在程序结束运行后查看这些输出，可与别人分享输出文件，还可编写程序将这些输出读取到内存中并进行处理。"
   ]
  },
  {
   "cell_type": "markdown",
   "metadata": {},
   "source": [
    "## 10.2.1 写入空文件"
   ]
  },
  {
   "cell_type": "raw",
   "metadata": {},
   "source": [
    "要将文本写入文件，你在调用open()时需要提供一个实参，告诉Python你要写入打开的文件。为明白其中的工作原理，我们来将一条简单的消息存储到文件中，而不是将其打印到屏幕上："
   ]
  },
  {
   "cell_type": "code",
   "execution_count": 40,
   "metadata": {
    "collapsed": true
   },
   "outputs": [],
   "source": [
    "file_name = \"programming.txt\"\n",
    "\n",
    "with open(file_name, \"w\") as file_object:\n",
    "    file_object.write(\"I love programming.\")"
   ]
  },
  {
   "cell_type": "raw",
   "metadata": {},
   "source": [
    "在这个示例中，调用open()时提供了两个实参。第一个实参也是要打开的文件的名称；第二个实参（\"w\"）告诉Python，我们要以“写入模式”打开这个文件。代开文件时，可指定 读取模式（\"r\"）、写入模式（\"w\"）、附加模式（“a”）或让你能够读取和写入文件模式（“r+”）。如果省略了模式实参，Python将以默认的只读模式打开。\n",
    "如果要写入的文件不存在，函数open()会自动创建它。然而，要以写入（“w”）模式打开文件时千万要小心，因为如果指定的文件已经存在，Python将在返回文件对象前会清空该文件。"
   ]
  },
  {
   "cell_type": "raw",
   "metadata": {},
   "source": [
    "⚠️ Python只能将字符串写入文本文件。要将数值数据存储到文本文件中，就必须先使用函数str()将其转换为字符串格式。"
   ]
  },
  {
   "cell_type": "markdown",
   "metadata": {},
   "source": [
    "## 10.2.2 写入多行"
   ]
  },
  {
   "cell_type": "raw",
   "metadata": {},
   "source": [
    "函数write()不会在你写入的文本末尾添加换行符，因此如果你写入多行时没有指定换行符，文件看起来可能不是你希望的那样："
   ]
  },
  {
   "cell_type": "code",
   "execution_count": 43,
   "metadata": {
    "collapsed": true
   },
   "outputs": [],
   "source": [
    "file_name = \"programming.txt\"\n",
    "\n",
    "with open(file_name, \"w\") as file_object:\n",
    "    file_object.write(\"I love programming.\")\n",
    "    file_object.write(\"I love creating new games.\")"
   ]
  },
  {
   "cell_type": "raw",
   "metadata": {},
   "source": [
    "要让每个字符串都单独占一行，需要在write()语句中包含换行符："
   ]
  },
  {
   "cell_type": "code",
   "execution_count": 45,
   "metadata": {
    "collapsed": true
   },
   "outputs": [],
   "source": [
    "file_name = \"programming.txt\"\n",
    "\n",
    "with open(file_name, \"w\") as file_object:\n",
    "    file_object.write(\"I love programming.\\n\")\n",
    "    file_object.write(\"I love creating new game.\\n\")"
   ]
  },
  {
   "cell_type": "markdown",
   "metadata": {},
   "source": [
    "## 10.2.3 附加到文件"
   ]
  },
  {
   "cell_type": "raw",
   "metadata": {},
   "source": [
    "如果要给文件添加内容，而不是覆盖原有的内容，可以\"附加模式\"打开文件。以附加模式打开文件时，Python不会在返回文件对象前清空文件，而你写入到文件的的行都会添加到文件末尾。如果指定文件不存在，Python将为你创建一个空文件："
   ]
  },
  {
   "cell_type": "raw",
   "metadata": {},
   "source": [
    "下面在既有文件programming.txt中再添加一些："
   ]
  },
  {
   "cell_type": "code",
   "execution_count": 47,
   "metadata": {
    "collapsed": true
   },
   "outputs": [],
   "source": [
    "file_name = \"programming.txt\"\n",
    "\n",
    "with open(file_name, \"a\") as file_object:\n",
    "    file_object.write(\"I also love finding meaning in large datasets.\\n\")\n",
    "    file_object.write(\"i love creating apps that can run in a browser.\\n\")"
   ]
  },
  {
   "cell_type": "raw",
   "metadata": {},
   "source": [
    "在第三行，我们打开文件时指定了实参\"a\"，以便将内容添加到文件末尾，而不是覆盖文件原内容。"
   ]
  },
  {
   "cell_type": "markdown",
   "metadata": {},
   "source": [
    "# 10.3 异常"
   ]
  },
  {
   "cell_type": "raw",
   "metadata": {},
   "source": [
    "Python使用被称为”异常“的特殊对象来管理程序执行期间发生的错误。每当发生让Python不知所措的错误时，它都会创建一个异常对象。如果你编写了处理该异常的代码，程序将继续运行；如果你未对异常进行处理，程序将停止，并显示一个traceback，其中包含有关异常的报告。\n",
    "异常是使用try-except代码块处理的。try-except代码块让Python执行指定操作，同时告诉Python发生异常时怎么办。使用了try-except代码块，即便出现异常，程序也能继续运行；显示你编写的友好的错误信息，而不是令用户迷惑的traceback。"
   ]
  },
  {
   "cell_type": "markdown",
   "metadata": {},
   "source": [
    "## 10.3.1 处理ZeroDivisionError异常"
   ]
  },
  {
   "cell_type": "raw",
   "metadata": {},
   "source": [
    "下面来看一种导致Python引发异常的简单错误："
   ]
  },
  {
   "cell_type": "code",
   "execution_count": 48,
   "metadata": {},
   "outputs": [
    {
     "ename": "ZeroDivisionError",
     "evalue": "division by zero",
     "output_type": "error",
     "traceback": [
      "\u001b[0;31m---------------------------------------------------------------------------\u001b[0m",
      "\u001b[0;31mZeroDivisionError\u001b[0m                         Traceback (most recent call last)",
      "\u001b[0;32m<ipython-input-48-42db4135b653>\u001b[0m in \u001b[0;36m<module>\u001b[0;34m()\u001b[0m\n\u001b[0;32m----> 1\u001b[0;31m \u001b[0mprint\u001b[0m\u001b[0;34m(\u001b[0m\u001b[0;36m5\u001b[0m\u001b[0;34m/\u001b[0m\u001b[0;36m0\u001b[0m\u001b[0;34m)\u001b[0m\u001b[0;34m\u001b[0m\u001b[0m\n\u001b[0m",
      "\u001b[0;31mZeroDivisionError\u001b[0m: division by zero"
     ]
    }
   ],
   "source": [
    "print(5/0)"
   ]
  },
  {
   "cell_type": "raw",
   "metadata": {},
   "source": [
    "下面我们将告诉Python，发生这种错误时怎么办："
   ]
  },
  {
   "cell_type": "markdown",
   "metadata": {},
   "source": [
    "## 10.3.2 使用try-except代码块"
   ]
  },
  {
   "cell_type": "raw",
   "metadata": {},
   "source": [
    "当你认为可能发生了错误时，可编写一个try-except代码块来处理可能引发的异常。你让Python尝试运行一些代码，并告诉它如果这些代码引发了指定的异常，该怎么办。"
   ]
  },
  {
   "cell_type": "raw",
   "metadata": {},
   "source": [
    "处理ZeroDivisionError异常的try-except代码块类似下面这样："
   ]
  },
  {
   "cell_type": "code",
   "execution_count": 51,
   "metadata": {},
   "outputs": [
    {
     "name": "stdout",
     "output_type": "stream",
     "text": [
      "You can't divide by zero!\n"
     ]
    }
   ],
   "source": [
    "try:\n",
    "    print(5 / 0)\n",
    "except ZeroDivisionError:\n",
    "    print(\"You can't divide by zero!\")"
   ]
  },
  {
   "cell_type": "raw",
   "metadata": {},
   "source": [
    "我们将导致错误的代码行print(5/0)放在了一个try-except代码块中。如果try代码块中的代码运行起来没有问题，Python将跳过except代码块；如果try代码块中的代码导致了错误，Python将查找这样的except代码块，并运行其中的代码，即其中指定的错误与引发的错误相同。"
   ]
  },
  {
   "cell_type": "raw",
   "metadata": {},
   "source": [
    "在这个示例中，try代码块中的代码引发了ZeroDivisionError异常，因此Python指出了该如何解决问题的except代码块，并运行其中的代码。这样，用户看到的是一条友好的错误信息。"
   ]
  },
  {
   "cell_type": "raw",
   "metadata": {},
   "source": [
    "如果try-except代码块后还有其他代码，程序将接着运行，因为已经告诉了Python如何处理这种错误。下面来看一个捕获错误后程序将继续运行的示例。"
   ]
  },
  {
   "cell_type": "markdown",
   "metadata": {},
   "source": [
    "## 10.3.3 使用异常避免崩溃"
   ]
  },
  {
   "cell_type": "raw",
   "metadata": {},
   "source": [
    "发生错误时，如果程序还有工作没有完成，妥善的处理错误就尤为重要.这种情况经常会出现在要求用户提供输入的程序中；如果程序能够妥善的处理无效输入，就能再提示用户提供有效的输入，而不至于崩溃。\n",
    "下面来创建一个只执行除法运算的计算器："
   ]
  },
  {
   "cell_type": "code",
   "execution_count": 54,
   "metadata": {},
   "outputs": [
    {
     "name": "stdout",
     "output_type": "stream",
     "text": [
      "Give me two number, and I'll divide them.\n",
      "Enter 'q' to quit.\n",
      "\n",
      "First number: 3\n",
      "\n",
      "Second number: 0\n"
     ]
    },
    {
     "ename": "ZeroDivisionError",
     "evalue": "division by zero",
     "output_type": "error",
     "traceback": [
      "\u001b[0;31m---------------------------------------------------------------------------\u001b[0m",
      "\u001b[0;31mZeroDivisionError\u001b[0m                         Traceback (most recent call last)",
      "\u001b[0;32m<ipython-input-54-f4a76fc151da>\u001b[0m in \u001b[0;36m<module>\u001b[0;34m()\u001b[0m\n\u001b[1;32m      9\u001b[0m     \u001b[0;32mif\u001b[0m \u001b[0msecond_number\u001b[0m \u001b[0;34m==\u001b[0m \u001b[0;34m\"q\"\u001b[0m\u001b[0;34m:\u001b[0m\u001b[0;34m\u001b[0m\u001b[0m\n\u001b[1;32m     10\u001b[0m         \u001b[0;32mbreak\u001b[0m\u001b[0;34m\u001b[0m\u001b[0m\n\u001b[0;32m---> 11\u001b[0;31m     \u001b[0manswer\u001b[0m \u001b[0;34m=\u001b[0m \u001b[0mint\u001b[0m\u001b[0;34m(\u001b[0m\u001b[0mfirst_number\u001b[0m\u001b[0;34m)\u001b[0m \u001b[0;34m/\u001b[0m \u001b[0mint\u001b[0m\u001b[0;34m(\u001b[0m\u001b[0msecond_number\u001b[0m\u001b[0;34m)\u001b[0m\u001b[0;34m\u001b[0m\u001b[0m\n\u001b[0m\u001b[1;32m     12\u001b[0m     \u001b[0mprint\u001b[0m\u001b[0;34m(\u001b[0m\u001b[0manswer\u001b[0m\u001b[0;34m)\u001b[0m\u001b[0;34m\u001b[0m\u001b[0m\n",
      "\u001b[0;31mZeroDivisionError\u001b[0m: division by zero"
     ]
    }
   ],
   "source": [
    "print(\"Give me two number, and I'll divide them.\")\n",
    "print(\"Enter 'q' to quit.\")\n",
    "\n",
    "while True:\n",
    "    first_number = input(\"\\nFirst number: \")\n",
    "    if first_number == \"q\":\n",
    "        break      # 去执行循环外的语句\n",
    "    second_number = input(\"\\nSecond number: \")\n",
    "    if second_number == \"q\":\n",
    "        break\n",
    "    answer = int(first_number) / int(second_number)\n",
    "    print(answer)"
   ]
  },
  {
   "cell_type": "markdown",
   "metadata": {},
   "source": [
    "## 10.3.4 else代码块"
   ]
  },
  {
   "cell_type": "raw",
   "metadata": {},
   "source": [
    "通过将可能引发的错误的代码放在try-except代码块中，可提高这个程序抵御错误的能力。错误时执行除法运算的导致的，因此我们需要将它放到try-except 代码块中。这个示例还包括一个else代码块；依赖于try代码块成功执行的代码都应放到else代码块中："
   ]
  },
  {
   "cell_type": "code",
   "execution_count": 57,
   "metadata": {},
   "outputs": [
    {
     "name": "stdout",
     "output_type": "stream",
     "text": [
      "Give me two number, and I'll divide them.\n",
      "Enter 'q' to quit.\n",
      "\n",
      "First number: 3\n",
      "\n",
      "Second number:4\n",
      "0.75\n",
      "\n",
      "First number: q\n"
     ]
    }
   ],
   "source": [
    "print(\"Give me two number, and I'll divide them.\")\n",
    "print(\"Enter 'q' to quit.\")\n",
    "\n",
    "while True:\n",
    "    first_number = input(\"\\nFirst number: \")\n",
    "    if first_number == \"q\":\n",
    "        break\n",
    "    second_number = input(\"\\nSecond number:\")\n",
    "    if second_number == \"q\":\n",
    "        break\n",
    "    try:\n",
    "        answer = int(first_number) / int(second_number)\n",
    "        #print(answer)\n",
    "    except ZeroDivisionError:\n",
    "        print(\"You can't divide by 0!\")\n",
    "    else:\n",
    "        print(answer)"
   ]
  },
  {
   "cell_type": "raw",
   "metadata": {},
   "source": [
    "我们让Python尝试执行try代码块中的除法运算(第11行)，这个代码只包含可能导致错误的代码。依赖于try代码块成功执行的代码都放在else块中；在这个示例中，如果除法运算成功，我们就使用else代码块来打印结果。\n",
    "except代码块告诉Python，出现ZeroDivisionError异常时该怎么办。"
   ]
  },
  {
   "cell_type": "raw",
   "metadata": {},
   "source": [
    "try-except-else代码块的工作原理大致如下：Python尝试执行try代码块中的代码；只有可能引发异常的代码才需要放在try语句中。有时候，有一些仅在try代码块成功执行时才需要运行的代码，这些代码应该放在else代码块中。except代码块告诉Python，如果它尝试运行try代码块中的代码时引发了指定的异常，该怎么办。"
   ]
  },
  {
   "cell_type": "raw",
   "metadata": {},
   "source": [
    "通过预测可能发生错误的代码，可编写健壮的程序。"
   ]
  },
  {
   "cell_type": "markdown",
   "metadata": {},
   "source": [
    "## 10.3.5 处理FileNotFoundError异常"
   ]
  },
  {
   "cell_type": "raw",
   "metadata": {},
   "source": [
    "使用文件时，一种常见的问题是找不到文件：；你查找的文件可能在其他地方、文件名可能不正确或者这个文件根本不存在。对于所有这些情形，都可使用try-except代码块以直观的方式进行处理。"
   ]
  },
  {
   "cell_type": "raw",
   "metadata": {},
   "source": [
    "我们来尝试读取一个不存在的文件："
   ]
  },
  {
   "cell_type": "code",
   "execution_count": 58,
   "metadata": {},
   "outputs": [
    {
     "ename": "FileNotFoundError",
     "evalue": "[Errno 2] No such file or directory: 'alice.txt'",
     "output_type": "error",
     "traceback": [
      "\u001b[0;31m---------------------------------------------------------------------------\u001b[0m",
      "\u001b[0;31mFileNotFoundError\u001b[0m                         Traceback (most recent call last)",
      "\u001b[0;32m<ipython-input-58-ecaf9859f694>\u001b[0m in \u001b[0;36m<module>\u001b[0;34m()\u001b[0m\n\u001b[1;32m      1\u001b[0m \u001b[0mfile_name\u001b[0m \u001b[0;34m=\u001b[0m \u001b[0;34m\"alice.txt\"\u001b[0m\u001b[0;34m\u001b[0m\u001b[0m\n\u001b[1;32m      2\u001b[0m \u001b[0;34m\u001b[0m\u001b[0m\n\u001b[0;32m----> 3\u001b[0;31m \u001b[0;32mwith\u001b[0m \u001b[0mopen\u001b[0m\u001b[0;34m(\u001b[0m\u001b[0mfile_name\u001b[0m\u001b[0;34m)\u001b[0m \u001b[0;32mas\u001b[0m \u001b[0mfile_object\u001b[0m\u001b[0;34m:\u001b[0m\u001b[0;34m\u001b[0m\u001b[0m\n\u001b[0m\u001b[1;32m      4\u001b[0m     \u001b[0mcontents\u001b[0m \u001b[0;34m=\u001b[0m \u001b[0mfile_object\u001b[0m\u001b[0;34m.\u001b[0m\u001b[0mread\u001b[0m\u001b[0;34m(\u001b[0m\u001b[0;34m)\u001b[0m\u001b[0;34m\u001b[0m\u001b[0m\n",
      "\u001b[0;31mFileNotFoundError\u001b[0m: [Errno 2] No such file or directory: 'alice.txt'"
     ]
    }
   ],
   "source": [
    "file_name = \"alice.txt\"\n",
    "\n",
    "with open(file_name) as file_object:\n",
    "    contents = file_object.read()"
   ]
  },
  {
   "cell_type": "raw",
   "metadata": {},
   "source": [
    "Python无法读取不存在的文件，因此它引发了一个异常。"
   ]
  },
  {
   "cell_type": "raw",
   "metadata": {},
   "source": [
    "在这个错误实例中，这个错误是由函数open()导致的，因此要处理这个错误，必须将try语句放在包含open()的代码之前："
   ]
  },
  {
   "cell_type": "code",
   "execution_count": 61,
   "metadata": {},
   "outputs": [
    {
     "name": "stdout",
     "output_type": "stream",
     "text": [
      "Sorry, the file alice.txt does not exist.\n"
     ]
    }
   ],
   "source": [
    "file_name = \"alice.txt\"\n",
    "\n",
    "try:\n",
    "    with open(file_name) as file_object:\n",
    "        contents = file_object.read()\n",
    "except FileNotFoundError:\n",
    "    msg = \"Sorry, the file \" + file_name + \" does not exist.\"\n",
    "    print(msg)"
   ]
  },
  {
   "cell_type": "raw",
   "metadata": {},
   "source": [
    "如果文件不存在，这个程序什么都不做，因此错误处理代码意义不大。下面来扩展这个示例，看看在使用多个文件时，异常能提供什么样的帮助。"
   ]
  },
  {
   "cell_type": "markdown",
   "metadata": {},
   "source": [
    "## 10.3.6 分析文本"
   ]
  },
  {
   "cell_type": "raw",
   "metadata": {},
   "source": [
    "你可以分析包含整本书的文本文件。下面来提取童话Alice in Wonderland的文本，并尝试计算它包含了多少个单词。我们将使用方法split()，它根据一个字符串创建一个单词列表。下面是只对包含童话名“Alice in Wonderland”的字符串调用方法split()的结果："
   ]
  },
  {
   "cell_type": "code",
   "execution_count": 65,
   "metadata": {},
   "outputs": [
    {
     "data": {
      "text/plain": [
       "['Alice', 'in', 'Wonderland']"
      ]
     },
     "execution_count": 65,
     "metadata": {},
     "output_type": "execute_result"
    }
   ],
   "source": [
    "title = \"Alice in Wonderland\"\n",
    "title.split()"
   ]
  },
  {
   "cell_type": "raw",
   "metadata": {},
   "source": [
    "方法split()以空格为分隔符将字符串拆成多个部分，并将这些部分存储到一个列表中。结果是一个包含字符串中所有单词的列表，虽然有些单词可能包含标点。为计算Alice in Wonderland包含多少个单词，我们将对整篇小说调用split()，再计算得到的列表包含多少个元素，从而确定整篇童话大致包含多少个单词："
   ]
  },
  {
   "cell_type": "code",
   "execution_count": 68,
   "metadata": {},
   "outputs": [
    {
     "name": "stdout",
     "output_type": "stream",
     "text": [
      "The file alice.txt has about 29461 words\n"
     ]
    }
   ],
   "source": [
    "file_name = \"alice.txt\"\n",
    "\n",
    "try:\n",
    "    with open(file_name) as file_object:\n",
    "        contents = file_object.read()\n",
    "except FileNotFoundError:\n",
    "    msg = \"Sorry, the file \" + file_name + \" does not exist!\"\n",
    "    print(msg)\n",
    "else:\n",
    "    words = contents.split()\n",
    "    num_words = len(words)\n",
    "    print(\"The file \" + file_name + \" has about \" + str(num_words) + \" words\")"
   ]
  },
  {
   "cell_type": "markdown",
   "metadata": {
    "collapsed": true
   },
   "source": [
    "## 10.3.7 使用多个文件"
   ]
  },
  {
   "cell_type": "raw",
   "metadata": {},
   "source": [
    "下面多分析几本书。这样做之前，我们先将这个程序的大部分代码移到一个名为count_words()的函数中，这样对对本书进行分析时将更容易："
   ]
  },
  {
   "cell_type": "code",
   "execution_count": 1,
   "metadata": {
    "collapsed": true
   },
   "outputs": [],
   "source": [
    "def count_words(file_name):\n",
    "    \"\"\"计算一个文件大致包含多少个单词\"\"\"\n",
    "    try:\n",
    "        with open(file_name) as file_object:\n",
    "            contents = file_object.read()\n",
    "    except FileNotFoundError:\n",
    "        msg = \"Sorry, the file \" + file_name + \" does not exists!\"\n",
    "        print(msg)\n",
    "    else:\n",
    "        words = contents.split()\n",
    "        num_words = len(words)\n",
    "        print(\"The file \" + file_name + \" has about \" + str(num_words) + \" words.\")"
   ]
  },
  {
   "cell_type": "code",
   "execution_count": 2,
   "metadata": {},
   "outputs": [
    {
     "name": "stdout",
     "output_type": "stream",
     "text": [
      "The file alice.txt has about 29461 words.\n"
     ]
    }
   ],
   "source": [
    "file_name = \"alice.txt\"\n",
    "count_words(file_name)"
   ]
  },
  {
   "cell_type": "raw",
   "metadata": {},
   "source": [
    "现在可以编写一个简单的循环，计算要分析的任何文本包含多少个单词了。为此我们将要分析的文件的名称存储在一个列表中，然后对列表中的每个文件都调用count_words()。故意没有将siddhartha.txt放到程序所在的目录，让你看到这个程序在文件不存在时处理的有多出色："
   ]
  },
  {
   "cell_type": "code",
   "execution_count": 4,
   "metadata": {},
   "outputs": [
    {
     "name": "stdout",
     "output_type": "stream",
     "text": [
      "The file alice.txt has about 29461 words.\n",
      "Sorry, the file siddhartha.txt does not exists!\n",
      "The file moby_dict.txt has about 215136 words.\n",
      "The file little_women.txt has about 189079 words.\n"
     ]
    }
   ],
   "source": [
    "file_names = [\"alice.txt\", \"siddhartha.txt\", \"moby_dict.txt\", \"little_women.txt\"]\n",
    "for file_name in file_names:\n",
    "    count_words(file_name)"
   ]
  },
  {
   "cell_type": "raw",
   "metadata": {},
   "source": [
    "在这个示例中，使用try-except代码块提供了两个重要的优点：避免让用户看到traceback；让程序能够继续分析找到的其他文件。如果不捕获因找不到siddhartha.txt而引发的FileNotFoundError异常，用户将看到完整的traceback，而程序将在尝试分析siddhartha.txt后停止运行---根本不分析Moby Dick和Little Women。"
   ]
  },
  {
   "cell_type": "markdown",
   "metadata": {
    "collapsed": true
   },
   "source": [
    "## 10.3.8 失败时一声不吭"
   ]
  },
  {
   "cell_type": "raw",
   "metadata": {},
   "source": [
    "在前一个示例中，我们告诉用户有一个文件找不到。但并非每次捕获到异常都需要告诉用户，有时候你希望程序在发生异常时一声不吭，就像什么也没有发生一样继续运行。要让程序在失败时一声不吭，可像通常那样编写try代码块，但在except代码块中明确地告诉Python什么都不做。Python中有一个pass语句，可在代码块中使用它来让Python什么都不做："
   ]
  },
  {
   "cell_type": "code",
   "execution_count": 1,
   "metadata": {
    "collapsed": true
   },
   "outputs": [],
   "source": [
    "def count_words(file_name):\n",
    "    try:\n",
    "        with open(file_name) as file_object:\n",
    "            contents = file_object.read()\n",
    "    except FileNotFoundError:\n",
    "        pass\n",
    "    else:\n",
    "        words = contents.split()\n",
    "        num_words = len(words)\n",
    "        print(\"The file \" + file_name + \" has about \" + str(num_words) + \" words.\")"
   ]
  },
  {
   "cell_type": "code",
   "execution_count": 2,
   "metadata": {},
   "outputs": [
    {
     "name": "stdout",
     "output_type": "stream",
     "text": [
      "The file alice.txt has about 29461 words.\n",
      "The file moby_dict.txt has about 215136 words.\n",
      "The file little_women.txt has about 189079 words.\n"
     ]
    }
   ],
   "source": [
    "file_names = [\"alice.txt\", \"siddhartha.txt\", \"moby_dict.txt\", \"little_women.txt\"]\n",
    "for file_name in file_names:\n",
    "    count_words(file_name)"
   ]
  },
  {
   "cell_type": "markdown",
   "metadata": {},
   "source": [
    "# 10.4 存储数据"
   ]
  },
  {
   "cell_type": "raw",
   "metadata": {},
   "source": [
    "很多程序都要求用户输入某种信息，如让用户存储游戏首选项或提供要可视化的数据。不管专注的是什么，程序都要把用户提供的信息存储在列表和字典等数据结构中。用户关闭程序时，你几乎总是要你保存他们提供的信息；一种简单的方式是使用模块json来存储数据。"
   ]
  },
  {
   "cell_type": "raw",
   "metadata": {},
   "source": [
    "模块json让你能够将简单的Python数据结构转储到文件中，并在程序再次运行时加载该文件中的数据。你还可以使用json在Python程序之间分享数据。更重要的是，JSON数据格式并非Python专用的，这让你能够将JSON格式存储的数据与其他编程语言的人分享。"
   ]
  },
  {
   "cell_type": "markdown",
   "metadata": {},
   "source": [
    "## 10.4.1 使用json.dump()和json.load()"
   ]
  },
  {
   "cell_type": "raw",
   "metadata": {},
   "source": [
    "我们来编写一个存储一组数字的简短程序，再编写一个将这些数字读取到内存中的程序。第一个程序将使用json.dump()来存储这些数字，而第二个程序将使用json.load()。"
   ]
  },
  {
   "cell_type": "raw",
   "metadata": {},
   "source": [
    "函数json()接受两个实参：要存储的数据以及可用于存储数据的文件对象。下面演示了如何使用json.dump()来存储数字列表:"
   ]
  },
  {
   "cell_type": "code",
   "execution_count": 3,
   "metadata": {
    "collapsed": true
   },
   "outputs": [],
   "source": [
    "import json\n",
    "\n",
    "numbers = [2, 3, 5, 7, 11, 13]\n",
    "\n",
    "file_name = \"numbers.json\"\n",
    "with open(file_name, \"w\") as file_object:\n",
    "    json.dump(numbers, file_object)"
   ]
  },
  {
   "cell_type": "raw",
   "metadata": {},
   "source": [
    "我们先导入模块json，再创建一个数字列表。在第5行，我们指定了要将该数字列表存储到其中的文件名称。通常使用文件扩展名.json来指出文件存储的数据格式为JSON格式。接下来，我们以写入模式来打开这个文件，让json能够将数据写入其中(在第6行)。在第7行，我们使用函数json.dump()将数字列表存储到文件numbers.json中。"
   ]
  },
  {
   "cell_type": "raw",
   "metadata": {},
   "source": [
    "这个程序没有输出，但我们可以打开文件numbers.json，看看其内容。\n",
    "下面再编写一个程序，使用json.load()将这个列表读取到内存中："
   ]
  },
  {
   "cell_type": "code",
   "execution_count": 5,
   "metadata": {},
   "outputs": [
    {
     "name": "stdout",
     "output_type": "stream",
     "text": [
      "[2, 3, 5, 7, 11, 13]\n"
     ]
    }
   ],
   "source": [
    "import json\n",
    "\n",
    "file_name = \"numbers.json\"\n",
    "with open(file_name) as file_object:\n",
    "    numbers = json.load(file_object)\n",
    "\n",
    "print(numbers)"
   ]
  },
  {
   "cell_type": "raw",
   "metadata": {},
   "source": [
    "在第3行，我们确保读取的是前面写入的文件。这次我们以读取的方式打开这个文件，因为Python只需读取这个文件。在第5行，我们使用函数json.load()加载存储在numbers.json中的信息，并将其存储在numbers中。"
   ]
  },
  {
   "cell_type": "markdown",
   "metadata": {},
   "source": [
    "## 10.4.2 保存和读取用户生成的数据"
   ]
  },
  {
   "cell_type": "raw",
   "metadata": {},
   "source": [
    "对于用户生成的数据，使用json保存他们大有裨益，因为如果不以某种方式进行存储，等程序停止运行时用户的数据将丢失。下面来看一个这样的例子：用户首次运行程序时被提示输入自己的名字，这样再次运行程序时就记住它了。"
   ]
  },
  {
   "cell_type": "raw",
   "metadata": {},
   "source": [
    "我们先来存储用户的名字："
   ]
  },
  {
   "cell_type": "code",
   "execution_count": 8,
   "metadata": {},
   "outputs": [
    {
     "name": "stdout",
     "output_type": "stream",
     "text": [
      "What is your name? Eric\n",
      "We'll remember you when you come back, Eric!\n"
     ]
    }
   ],
   "source": [
    "import json\n",
    "\n",
    "username = input(\"What is your name? \")\n",
    "file_name = \"username.json\"\n",
    "with open(file_name, \"w\") as file_object:\n",
    "    json.dump(username, file_object)\n",
    "    print(\"We'll remember you when you come back, \" + username + \"!\")"
   ]
  },
  {
   "cell_type": "raw",
   "metadata": {},
   "source": [
    "在第3行，我么提示输入用户名，并将其存储在一个变量中。接下来，我们调用json.dump()，并将用户名和一个文件对象传递给他，从而将用户名存储到文件中(第6行)。然后，我们打印一条信息，指出我们存储了他输入的信息。"
   ]
  },
  {
   "cell_type": "raw",
   "metadata": {},
   "source": [
    "现在再编写一个程序，向其名字被存储的用户发出问候："
   ]
  },
  {
   "cell_type": "code",
   "execution_count": 10,
   "metadata": {},
   "outputs": [
    {
     "name": "stdout",
     "output_type": "stream",
     "text": [
      "Welcome back, Eric!\n"
     ]
    }
   ],
   "source": [
    "import json\n",
    "\n",
    "file_name = \"username.json\"\n",
    "with open(file_name) as file_object:\n",
    "    username = json.load(file_object)\n",
    "    print(\"Welcome back, \" + username + \"!\")"
   ]
  },
  {
   "cell_type": "raw",
   "metadata": {},
   "source": [
    "在第5行，我们使用json.load()将存储在username.json中的信息读取到变量username中。"
   ]
  },
  {
   "cell_type": "raw",
   "metadata": {},
   "source": [
    "我们需要将这两个程序合并到一个程序中，这个程序运行时，我们将尝试从文件username.json中获取文件名，因此我们首先编写一个尝试恢复用户名的try代码块。如果这个文件不存在，我们就在except代码块中提示用户输入用户名，并将其存储在username.json中，以便程序在运行的时候能获取它："
   ]
  },
  {
   "cell_type": "code",
   "execution_count": 12,
   "metadata": {},
   "outputs": [
    {
     "name": "stdout",
     "output_type": "stream",
     "text": [
      "Welcome back, Eric\n"
     ]
    }
   ],
   "source": [
    "import json\n",
    "\n",
    "\"\"\"\n",
    "如果以前存储了用户名，就加载它，否则就提示用户输入用户名并存储它\n",
    "\"\"\"\n",
    "\n",
    "file_name = \"username.json\"\n",
    "try:\n",
    "    with open(file_name) as file_object:\n",
    "        username = json.load(file_object)\n",
    "except FileNotFoundError:\n",
    "    username = input(\"What is your name? \")\n",
    "    with open(file_name, \"w\") as file_object:\n",
    "        json.dump(username, file_object)\n",
    "        print(\"We will remember you when you come back, \" + username + \"!\")\n",
    "else:\n",
    "    print(\"Welcome back, \" + username)"
   ]
  },
  {
   "cell_type": "raw",
   "metadata": {},
   "source": [
    "在第9行我们尝试打开文件username.json。如果这个文件存在，就将其中的用户名读取到内存中(第10行),再执行else代码块，即打印出一条欢迎用户回来的信息。用户首次运行程序时，文件username.json不存在，将引发FileNotFoundError异常(第11行),因此Python将执行except代码块：提示用户输入其用户名(第12行),再使用json.dump()存储该用户名，并打印一条问候语句。"
   ]
  },
  {
   "cell_type": "markdown",
   "metadata": {},
   "source": [
    "## 10.4.3 重构"
   ]
  },
  {
   "cell_type": "raw",
   "metadata": {},
   "source": [
    "你经常会遇到这样的情况：代码能正确的运行，但可以做进一步的改进---将代码划分为一系列完成具体工作的函数。这样的过程称为重构。重构让代码更清晰、更易于理解、更容易扩展。"
   ]
  },
  {
   "cell_type": "raw",
   "metadata": {
    "collapsed": true
   },
   "source": [
    "要重构上述代码，可将其大部分逻辑放到一个或多个函数中："
   ]
  },
  {
   "cell_type": "code",
   "execution_count": 1,
   "metadata": {
    "collapsed": true
   },
   "outputs": [],
   "source": [
    "import json\n",
    "\n",
    "def greet_user():\n",
    "    file_name = \"username.json\"\n",
    "    try:\n",
    "        with open(file_name) as file_object:\n",
    "            username = json.load(file_object)\n",
    "    except FileNotFoundError:\n",
    "        username = input(\"What is your name? \")\n",
    "        with open(file_name, \"w\") as file_object:\n",
    "            json.dump(username, file_object)\n",
    "            print(\"We will remember you when you comback, \" + username + \"!\")\n",
    "    else:\n",
    "        print(\"Welcome back, \" + username)"
   ]
  },
  {
   "cell_type": "code",
   "execution_count": 2,
   "metadata": {},
   "outputs": [
    {
     "name": "stdout",
     "output_type": "stream",
     "text": [
      "Welcome back, Eric\n"
     ]
    }
   ],
   "source": [
    "greet_user()"
   ]
  },
  {
   "cell_type": "code",
   "execution_count": 4,
   "metadata": {
    "collapsed": true
   },
   "outputs": [],
   "source": [
    "import json\n",
    "\n",
    "def get_stored_username():\n",
    "    \"\"\"如果存储了用户名，就获取它\"\"\"\n",
    "    file_name = \"username.json\"\n",
    "    try:\n",
    "        with open(file_name) as file_object:\n",
    "            username = json.load(file_object)\n",
    "    except FileNotFoundError:\n",
    "        return None\n",
    "    else:\n",
    "        return username\n",
    "    \n",
    "def greet_user():\n",
    "    username = get_stored_username()\n",
    "    if username:\n",
    "        print(\"Welcome back, \" + username + \"!\")\n",
    "    else:\n",
    "        username = input(\"What is your name? \")\n",
    "        with open(file_name, \"w\") as file_object:\n",
    "            json.dump(username, file_object)\n",
    "            print(\"We'll remember you when you come back, \" + username + \"!\")"
   ]
  },
  {
   "cell_type": "code",
   "execution_count": 5,
   "metadata": {},
   "outputs": [
    {
     "name": "stdout",
     "output_type": "stream",
     "text": [
      "Welcome back, Eric!\n"
     ]
    }
   ],
   "source": [
    "greet_user()"
   ]
  },
  {
   "cell_type": "raw",
   "metadata": {
    "collapsed": true
   },
   "source": [
    "新增的函数get_stored_username()目标明确，注释指出了这一点。如果文件username.json不存在，这个函数就返回None，这是一种不错的做法：函数要么返回预期值，要么返回None；这让我们能够使用函数的返回值做简单的测试。"
   ]
  },
  {
   "cell_type": "raw",
   "metadata": {},
   "source": [
    "我们还需将greet_user()中的另一个代码块提取出来：将没有存储用户名时提示用户输入的代码放在一个独立的函数中："
   ]
  },
  {
   "cell_type": "code",
   "execution_count": 7,
   "metadata": {
    "collapsed": true
   },
   "outputs": [],
   "source": [
    "import json\n",
    "\n",
    "def get_stored_username():\n",
    "    file_name = \"username.json\"\n",
    "    try:\n",
    "        with open(file_name) as file_object:\n",
    "            username = json.load(file_object)\n",
    "    except FileNotFoundError:\n",
    "        return None\n",
    "    else:\n",
    "        return username\n",
    "\n",
    "def get_new_username():\n",
    "    \"\"\"提示用户输入用户名\"\"\"\n",
    "    username = input(\"What is your name? \")\n",
    "    file_name = \"username.json\"\n",
    "    with open(file_name, \"w\") as file_object:\n",
    "        json.dump(username, file_object)\n",
    "    return username\n",
    "\n",
    "def greet_user():\n",
    "    username = get_stored_username()\n",
    "    if username:\n",
    "        print(\"Welcome back, \" + username + \"!\")\n",
    "    else:\n",
    "        username = get_new_username()\n",
    "        print(\"We'll remember you when you come back, \" + username + \"!\")"
   ]
  },
  {
   "cell_type": "code",
   "execution_count": 8,
   "metadata": {},
   "outputs": [
    {
     "name": "stdout",
     "output_type": "stream",
     "text": [
      "What is your name? Eric\n",
      "We'll remember you when you come back, Eric!\n"
     ]
    }
   ],
   "source": [
    "greet_user()"
   ]
  },
  {
   "cell_type": "code",
   "execution_count": null,
   "metadata": {
    "collapsed": true
   },
   "outputs": [],
   "source": []
  }
 ],
 "metadata": {
  "kernelspec": {
   "display_name": "Python 3",
   "language": "python",
   "name": "python3"
  },
  "language_info": {
   "codemirror_mode": {
    "name": "ipython",
    "version": 3
   },
   "file_extension": ".py",
   "mimetype": "text/x-python",
   "name": "python",
   "nbconvert_exporter": "python",
   "pygments_lexer": "ipython3",
   "version": "3.6.3"
  }
 },
 "nbformat": 4,
 "nbformat_minor": 2
}
